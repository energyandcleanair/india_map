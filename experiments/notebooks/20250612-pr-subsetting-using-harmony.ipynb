{
 "cells": [
  {
   "cell_type": "code",
   "execution_count": 2,
   "metadata": {
    "tags": []
   },
   "outputs": [],
   "source": [
    "# Install prerequisite packages\n",
    "import sys\n"
   ]
  },
  {
   "cell_type": "code",
   "execution_count": 3,
   "metadata": {},
   "outputs": [],
   "source": [
    "from urllib import request, parse\n",
    "from http.cookiejar import CookieJar\n",
    "from base64 import b64encode\n",
    "import getpass\n",
    "import netrc\n",
    "import requests\n",
    "import json\n",
    "import os\n",
    "import pprint\n",
    "from osgeo import gdal\n",
    "import matplotlib.pyplot as plt\n",
    "import matplotlib.image as mpimg\n",
    "import rasterio\n",
    "from rasterio.plot import show\n",
    "import numpy as np\n",
    "import time\n",
    "from netCDF4 import Dataset\n",
    "from owslib.wms import WebMapService\n",
    "from owslib.util import Authentication\n",
    "%matplotlib inline"
   ]
  },
  {
   "cell_type": "code",
   "execution_count": 4,
   "metadata": {},
   "outputs": [],
   "source": [
    "local_dir = './outputs/'\n",
    "if not os.path.exists(local_dir):\n",
    "  os.mkdir(local_dir)"
   ]
  },
  {
   "cell_type": "code",
   "execution_count": 5,
   "metadata": {},
   "outputs": [],
   "source": [
    "def setup_earthdata_login_auth(endpoint):\n",
    "    \"\"\"\n",
    "    Set up the request library so that it authenticates against the given Earthdata Login\n",
    "    endpoint and is able to track cookies between requests.  This looks in the .netrc file\n",
    "    first and if no credentials are found, it prompts for them.\n",
    "\n",
    "    Valid endpoints include:\n",
    "        uat.urs.earthdata.nasa.gov - Earthdata Login UAT (Harmony's current default)\n",
    "        urs.earthdata.nasa.gov - Earthdata Login production\n",
    "    \"\"\"\n",
    "    token = None\n",
    "    try:\n",
    "        username, _, password = netrc.netrc().authenticators(endpoint)\n",
    "    except (FileNotFoundError, TypeError):\n",
    "        # FileNotFound = There's no .netrc file\n",
    "        # TypeError = The endpoint isn't in the netrc file, causing the above to try unpacking None\n",
    "        print('Please provide your Earthdata Login credentials to allow data access')\n",
    "        print('Your credentials will only be passed to %s and will not be exposed in Jupyter' % (endpoint))\n",
    "        username = input('Username:')\n",
    "        print('Password:')\n",
    "        password = getpass.getpass()\n",
    "\n",
    "    # Retrieve existing bearer token or generate a new one if none exists\n",
    "    basic_auth_string = f'{username}:{password}'\n",
    "    basic_auth_bytes = basic_auth_string.encode('ascii')\n",
    "    base64_bytes = b64encode(basic_auth_bytes)\n",
    "    base64_basic_auth = base64_bytes.decode('ascii')\n",
    "    try:\n",
    "        token_response = requests.get(f'https://{endpoint}/api/users/tokens', headers={'Authorization': f'Basic {base64_basic_auth}'})\n",
    "        token_response_json = token_response.json()\n",
    "        if token_response_json:\n",
    "            token = token_response_json[0]['access_token']\n",
    "        else:\n",
    "            token_response = requests.post(f'https://{endpoint}/api/users/token', headers={'Authorization': f'Basic {base64_basic_auth}'})\n",
    "            token_response_json = token_response.json()\n",
    "            token = token_response_json['access_token']\n",
    "    except:\n",
    "        print(f'Error: token response: {token_response_json}')\n",
    "\n",
    "    manager = request.HTTPPasswordMgrWithDefaultRealm()\n",
    "    manager.add_password(None, endpoint, username, password)\n",
    "    auth = request.HTTPBasicAuthHandler(manager)\n",
    "\n",
    "    jar = CookieJar()\n",
    "    processor = request.HTTPCookieProcessor(jar)\n",
    "    opener = request.build_opener(auth, processor)\n",
    "    request.install_opener(opener)\n",
    "    return token\n",
    "\n",
    "class BearerToken(requests.auth.AuthBase):\n",
    "    def __init__(self, token):\n",
    "        self.token = token\n",
    "    def __call__(self, r):\n",
    "        r.headers['Authorization'] = f'Bearer {self.token}'\n",
    "        return r"
   ]
  },
  {
   "cell_type": "markdown",
   "metadata": {},
   "source": [
    "Now call the above function to set up Earthdata Login for subsequent requests"
   ]
  },
  {
   "cell_type": "code",
   "execution_count": 6,
   "metadata": {},
   "outputs": [],
   "source": [
    "bearer_token = setup_earthdata_login_auth('urs.earthdata.nasa.gov')\n",
    "\n",
    "def submit_request(url):\n",
    "    status_req = request.Request(url)\n",
    "    status_req.add_header('Authorization', f'Bearer {bearer_token}')\n",
    "\n",
    "    # Open the request and read the response\n",
    "    with request.urlopen(status_req) as response:\n",
    "        return response.read()\n",
    "\n",
    "def get_json_response(url):\n",
    "    response_data = submit_request(url)\n",
    "    return json.loads(response_data)"
   ]
  },
  {
   "cell_type": "markdown",
   "metadata": {},
   "source": [
    "## Identify a data collection of interest\n",
    "\n",
    "A CMR collection ID is needed to request services through Harmony. The collection ID can be determined using the [CMR API](https://cmr.earthdata.nasa.gov/search/site/docs/search/api.html). We will query the corresponding ID of a known collection short name, `harmony_example`, which is a Level 3 test collection with transformation services available through Harmony."
   ]
  },
  {
   "cell_type": "code",
   "execution_count": 7,
   "metadata": {
    "tags": []
   },
   "outputs": [
    {
     "name": "stdout",
     "output_type": "stream",
     "text": [
      "C1276812830-GES_DISC\n"
     ]
    }
   ],
   "source": [
    "params = {\n",
    "    'short_name': 'M2T1NXAER',\n",
    "    'version': '5.12.4'\n",
    "} # parameter dictionary with known CMR short_name and version\n",
    "\n",
    "cmr_collections_url = 'https://cmr.earthdata.nasa.gov/search/collections.json'\n",
    "query_string = parse.urlencode(params)\n",
    "url = cmr_collections_url + \"?\" + query_string\n",
    "cmr_response = request.urlopen(url)\n",
    "cmr_results = json.loads(cmr_response.read().decode('utf-8'))\n",
    "\n",
    "collectionlist = [el['id'] for el in cmr_results['feed']['entry']]\n",
    "harmony_collection_id = collectionlist[0]\n",
    "print(harmony_collection_id)"
   ]
  },
  {
   "cell_type": "markdown",
   "metadata": {},
   "source": [
    "We can also view the `harmony_example` collection metadata to glean more information about the collection:"
   ]
  },
  {
   "cell_type": "code",
   "execution_count": 8,
   "metadata": {
    "scrolled": true,
    "tags": []
   },
   "outputs": [
    {
     "name": "stdout",
     "output_type": "stream",
     "text": [
      "{'feed': {'entry': [{'archive_center': 'NASA/GSFC/SED/ESD/TISL/GESDISC',\n",
      "                     'association_details': {'services': [{'concept_id': 'S2786683405-GES_DISC'},\n",
      "                                                          {'concept_id': 'S2164732315-XYZ_PROV'},\n",
      "                                                          {'concept_id': 'S2874702816-XYZ_PROV'}],\n",
      "                                             'tools': [{'concept_id': 'TL2140660116-GES_DISC'}],\n",
      "                                             'variables': [{'concept_id': 'V3171509955-GES_DISC'},\n",
      "                                                           {'concept_id': 'V3171510287-GES_DISC'},\n",
      "                                                           {'concept_id': 'V3171509615-GES_DISC'},\n",
      "                                                           {'concept_id': 'V3171509344-GES_DISC'},\n",
      "                                                           {'concept_id': 'V3171509321-GES_DISC'},\n",
      "                                                           {'concept_id': 'V3171510290-GES_DISC'},\n",
      "                                                           {'concept_id': 'V3171509503-GES_DISC'},\n",
      "                                                           {'concept_id': 'V3171509834-GES_DISC'},\n",
      "                                                           {'concept_id': 'V3171509505-GES_DISC'},\n",
      "                                                           {'concept_id': 'V3171510146-GES_DISC'},\n",
      "                                                           {'concept_id': 'V3171509959-GES_DISC'},\n",
      "                                                           {'concept_id': 'V3171510182-GES_DISC'},\n",
      "                                                           {'concept_id': 'V3171509948-GES_DISC'},\n",
      "                                                           {'concept_id': 'V3171509767-GES_DISC'},\n",
      "                                                           {'concept_id': 'V3171509680-GES_DISC'},\n",
      "                                                           {'concept_id': 'V3171509870-GES_DISC'},\n",
      "                                                           {'concept_id': 'V3171509330-GES_DISC'},\n",
      "                                                           {'concept_id': 'V3171509500-GES_DISC'},\n",
      "                                                           {'concept_id': 'V3171509777-GES_DISC'},\n",
      "                                                           {'concept_id': 'V3171509795-GES_DISC'},\n",
      "                                                           {'concept_id': 'V3171510036-GES_DISC'},\n",
      "                                                           {'concept_id': 'V3171509762-GES_DISC'},\n",
      "                                                           {'concept_id': 'V3171510111-GES_DISC'},\n",
      "                                                           {'concept_id': 'V3171509787-GES_DISC'},\n",
      "                                                           {'concept_id': 'V3171509335-GES_DISC'},\n",
      "                                                           {'concept_id': 'V3171509589-GES_DISC'},\n",
      "                                                           {'concept_id': 'V3171510212-GES_DISC'},\n",
      "                                                           {'concept_id': 'V3171509743-GES_DISC'},\n",
      "                                                           {'concept_id': 'V3171509913-GES_DISC'},\n",
      "                                                           {'concept_id': 'V3171509563-GES_DISC'},\n",
      "                                                           {'concept_id': 'V3171510219-GES_DISC'},\n",
      "                                                           {'concept_id': 'V3171509764-GES_DISC'},\n",
      "                                                           {'concept_id': 'V3171510217-GES_DISC'},\n",
      "                                                           {'concept_id': 'V3171509325-GES_DISC'},\n",
      "                                                           {'concept_id': 'V3171509646-GES_DISC'},\n",
      "                                                           {'concept_id': 'V3171510071-GES_DISC'},\n",
      "                                                           {'concept_id': 'V3171509394-GES_DISC'},\n",
      "                                                           {'concept_id': 'V3171510206-GES_DISC'},\n",
      "                                                           {'concept_id': 'V3171509363-GES_DISC'},\n",
      "                                                           {'concept_id': 'V3171509493-GES_DISC'},\n",
      "                                                           {'concept_id': 'V3171509714-GES_DISC'},\n",
      "                                                           {'concept_id': 'V3171509779-GES_DISC'},\n",
      "                                                           {'concept_id': 'V3171509333-GES_DISC'},\n",
      "                                                           {'concept_id': 'V3171509319-GES_DISC'},\n",
      "                                                           {'concept_id': 'V3171510001-GES_DISC'},\n",
      "                                                           {'concept_id': 'V3171509323-GES_DISC'},\n",
      "                                                           {'concept_id': 'V3171509807-GES_DISC'},\n",
      "                                                           {'concept_id': 'V3171509953-GES_DISC'},\n",
      "                                                           {'concept_id': 'V3171510238-GES_DISC'},\n",
      "                                                           {'concept_id': 'V3171509444-GES_DISC'},\n",
      "                                                           {'concept_id': 'V3171509774-GES_DISC'},\n",
      "                                                           {'concept_id': 'V3171509525-GES_DISC'},\n",
      "                                                           {'concept_id': 'V3171510214-GES_DISC'}]},\n",
      "                     'associations': {'services': ['S2786683405-GES_DISC',\n",
      "                                                   'S2164732315-XYZ_PROV',\n",
      "                                                   'S2874702816-XYZ_PROV'],\n",
      "                                      'tools': ['TL2140660116-GES_DISC'],\n",
      "                                      'variables': ['V3171509955-GES_DISC',\n",
      "                                                    'V3171510287-GES_DISC',\n",
      "                                                    'V3171509615-GES_DISC',\n",
      "                                                    'V3171509344-GES_DISC',\n",
      "                                                    'V3171509321-GES_DISC',\n",
      "                                                    'V3171510290-GES_DISC',\n",
      "                                                    'V3171509503-GES_DISC',\n",
      "                                                    'V3171509834-GES_DISC',\n",
      "                                                    'V3171509505-GES_DISC',\n",
      "                                                    'V3171510146-GES_DISC',\n",
      "                                                    'V3171509959-GES_DISC',\n",
      "                                                    'V3171510182-GES_DISC',\n",
      "                                                    'V3171509948-GES_DISC',\n",
      "                                                    'V3171509767-GES_DISC',\n",
      "                                                    'V3171509680-GES_DISC',\n",
      "                                                    'V3171509870-GES_DISC',\n",
      "                                                    'V3171509330-GES_DISC',\n",
      "                                                    'V3171509500-GES_DISC',\n",
      "                                                    'V3171509777-GES_DISC',\n",
      "                                                    'V3171509795-GES_DISC',\n",
      "                                                    'V3171510036-GES_DISC',\n",
      "                                                    'V3171509762-GES_DISC',\n",
      "                                                    'V3171510111-GES_DISC',\n",
      "                                                    'V3171509787-GES_DISC',\n",
      "                                                    'V3171509335-GES_DISC',\n",
      "                                                    'V3171509589-GES_DISC',\n",
      "                                                    'V3171510212-GES_DISC',\n",
      "                                                    'V3171509743-GES_DISC',\n",
      "                                                    'V3171509913-GES_DISC',\n",
      "                                                    'V3171509563-GES_DISC',\n",
      "                                                    'V3171510219-GES_DISC',\n",
      "                                                    'V3171509764-GES_DISC',\n",
      "                                                    'V3171510217-GES_DISC',\n",
      "                                                    'V3171509325-GES_DISC',\n",
      "                                                    'V3171509646-GES_DISC',\n",
      "                                                    'V3171510071-GES_DISC',\n",
      "                                                    'V3171509394-GES_DISC',\n",
      "                                                    'V3171510206-GES_DISC',\n",
      "                                                    'V3171509363-GES_DISC',\n",
      "                                                    'V3171509493-GES_DISC',\n",
      "                                                    'V3171509714-GES_DISC',\n",
      "                                                    'V3171509779-GES_DISC',\n",
      "                                                    'V3171509333-GES_DISC',\n",
      "                                                    'V3171509319-GES_DISC',\n",
      "                                                    'V3171510001-GES_DISC',\n",
      "                                                    'V3171509323-GES_DISC',\n",
      "                                                    'V3171509807-GES_DISC',\n",
      "                                                    'V3171509953-GES_DISC',\n",
      "                                                    'V3171510238-GES_DISC',\n",
      "                                                    'V3171509444-GES_DISC',\n",
      "                                                    'V3171509774-GES_DISC',\n",
      "                                                    'V3171509525-GES_DISC',\n",
      "                                                    'V3171510214-GES_DISC']},\n",
      "                     'boxes': ['-90 -180 90 180'],\n",
      "                     'browse_flag': True,\n",
      "                     'cloud_hosted': True,\n",
      "                     'collection_data_type': 'SCIENCE_QUALITY',\n",
      "                     'consortiums': ['EOSDIS', 'GEOSS'],\n",
      "                     'coordinate_system': 'CARTESIAN',\n",
      "                     'data_center': 'GES_DISC',\n",
      "                     'dataset_id': 'MERRA-2 tavg1_2d_aer_Nx: '\n",
      "                                   '2d,1-Hourly,Time-averaged,Single-Level,Assimilation,Aerosol '\n",
      "                                   'Diagnostics 0.625 x 0.5 degree V5.12.4 '\n",
      "                                   '(M2T1NXAER) at GES DISC',\n",
      "                     'entry_id': 'M2T1NXAER_5.12.4',\n",
      "                     'has_combine': False,\n",
      "                     'has_formats': True,\n",
      "                     'has_spatial_subsetting': True,\n",
      "                     'has_temporal_subsetting': True,\n",
      "                     'has_transforms': False,\n",
      "                     'has_variables': True,\n",
      "                     'id': 'C1276812830-GES_DISC',\n",
      "                     'links': [{'href': 'https://docserver.gesdisc.eosdis.nasa.gov/public/project/Images/M2T1NXAER_5.12.4.png',\n",
      "                                'hreflang': 'en-US',\n",
      "                                'rel': 'http://esipfed.org/ns/fedsearch/1.1/browse#'},\n",
      "                               {'href': 'https://disc.gsfc.nasa.gov/information/howto?tags=MERRA',\n",
      "                                'hreflang': 'en-US',\n",
      "                                'rel': 'http://esipfed.org/ns/fedsearch/1.1/documentation#'},\n",
      "                               {'href': 'https://disc.gsfc.nasa.gov/datacollection/M2T1NXAER_5.12.4.html',\n",
      "                                'hreflang': 'en-US',\n",
      "                                'rel': 'http://esipfed.org/ns/fedsearch/1.1/metadata#'},\n",
      "                               {'href': 'https://goldsmr4.gesdisc.eosdis.nasa.gov/data/MERRA2/M2T1NXAER.5.12.4/',\n",
      "                                'hreflang': 'en-US',\n",
      "                                'rel': 'http://esipfed.org/ns/fedsearch/1.1/data#'},\n",
      "                               {'href': 'https://giovanni.gsfc.nasa.gov/giovanni/#dataKeyword=M2T1NXAER',\n",
      "                                'hreflang': 'en-US',\n",
      "                                'rel': 'http://esipfed.org/ns/fedsearch/1.1/browse#'},\n",
      "                               {'href': 'https://search.earthdata.nasa.gov/search?q=M2T1NXAER',\n",
      "                                'hreflang': 'en-US',\n",
      "                                'rel': 'http://esipfed.org/ns/fedsearch/1.1/data#'},\n",
      "                               {'href': 'https://goldsmr4.gesdisc.eosdis.nasa.gov/dods/M2T1NXAER.info',\n",
      "                                'hreflang': 'en-US',\n",
      "                                'rel': 'http://esipfed.org/ns/fedsearch/1.1/metadata#'},\n",
      "                               {'href': 'https://goldsmr4.gesdisc.eosdis.nasa.gov/opendap/MERRA2/M2T1NXAER.5.12.4/contents.html',\n",
      "                                'hreflang': 'en-US',\n",
      "                                'rel': 'http://esipfed.org/ns/fedsearch/1.1/service#'},\n",
      "                               {'href': 'https://goldsmr4.gesdisc.eosdis.nasa.gov/thredds/catalog/MERRA2_aggregation/M2T1NXAER.5.12.4/catalog.html',\n",
      "                                'hreflang': 'en-US',\n",
      "                                'rel': 'http://esipfed.org/ns/fedsearch/1.1/metadata#'},\n",
      "                               {'href': 'https://gmao.gsfc.nasa.gov/reanalysis/MERRA-2/docs/',\n",
      "                                'hreflang': 'en-US',\n",
      "                                'rel': 'http://esipfed.org/ns/fedsearch/1.1/metadata#'},\n",
      "                               {'href': 'https://gmao.gsfc.nasa.gov/pubs/docs/Bosilovich785.pdf',\n",
      "                                'hreflang': 'en-US',\n",
      "                                'rel': 'http://esipfed.org/ns/fedsearch/1.1/documentation#'},\n",
      "                               {'href': 'https://goldsmr4.gesdisc.eosdis.nasa.gov/data/MERRA2/M2T1NXAER.5.12.4/doc/MERRA2.README.pdf',\n",
      "                                'hreflang': 'en-US',\n",
      "                                'rel': 'http://esipfed.org/ns/fedsearch/1.1/documentation#'},\n",
      "                               {'href': 'https://disc.gsfc.nasa.gov/information/mission-project?title=MERRA-2',\n",
      "                                'hreflang': 'en-US',\n",
      "                                'rel': 'http://esipfed.org/ns/fedsearch/1.1/documentation#'},\n",
      "                               {'href': 'https://disc.gsfc.nasa.gov/information/documents?title=Records%20of%20MERRA-2%20Data%20Reprocessing%20and%20Service%20Changes',\n",
      "                                'hreflang': 'en-US',\n",
      "                                'rel': 'http://esipfed.org/ns/fedsearch/1.1/documentation#'},\n",
      "                               {'href': 'https://disc.gsfc.nasa.gov/information/faqs?keywords=MERRA-2&page=1',\n",
      "                                'hreflang': 'en-US',\n",
      "                                'rel': 'http://esipfed.org/ns/fedsearch/1.1/documentation#'}],\n",
      "                     'online_access_flag': True,\n",
      "                     'orbit_parameters': {},\n",
      "                     'organizations': ['NASA/GSFC/SED/ESD/TISL/GESDISC'],\n",
      "                     'original_format': 'UMM_JSON',\n",
      "                     'platforms': ['MERRA-2'],\n",
      "                     'processing_level_id': '4',\n",
      "                     'service_features': {'esi': {'has_combine': False,\n",
      "                                                  'has_formats': False,\n",
      "                                                  'has_spatial_subsetting': False,\n",
      "                                                  'has_temporal_subsetting': False,\n",
      "                                                  'has_transforms': False,\n",
      "                                                  'has_variables': False},\n",
      "                                          'harmony': {'has_combine': False,\n",
      "                                                      'has_formats': True,\n",
      "                                                      'has_spatial_subsetting': True,\n",
      "                                                      'has_temporal_subsetting': True,\n",
      "                                                      'has_transforms': False,\n",
      "                                                      'has_variables': True},\n",
      "                                          'opendap': {'has_combine': False,\n",
      "                                                      'has_formats': False,\n",
      "                                                      'has_spatial_subsetting': False,\n",
      "                                                      'has_temporal_subsetting': False,\n",
      "                                                      'has_transforms': False,\n",
      "                                                      'has_variables': False}},\n",
      "                     'short_name': 'M2T1NXAER',\n",
      "                     'summary': 'M2T1NXAER (or  tavg1_2d_aer_Nx) is an hourly '\n",
      "                                'time-averaged 2-dimensional data collection '\n",
      "                                'in Modern-Era Retrospective analysis for '\n",
      "                                'Research and Applications version 2 '\n",
      "                                '(MERRA-2).  This collection consists of '\n",
      "                                'assimilated aerosol diagnostics, such as '\n",
      "                                'column mass density of aerosol components '\n",
      "                                '(black carbon, dust, sea salt, sulfate, and '\n",
      "                                'organic carbon), surface mass concentration '\n",
      "                                'of aerosol components, and total extinction '\n",
      "                                '(and scattering ) aerosol optical thickness '\n",
      "                                '(AOT) at 550 nm.  The total PM1.0, PM2.5, and '\n",
      "                                'PM10 may be derived with the formula '\n",
      "                                'described in the FAQs under the Documentation '\n",
      "                                'tab of this page.  The data field is '\n",
      "                                'time-stamped with the central time of an hour '\n",
      "                                'starting from 00:30 UTC, e.g.: 00:30, 01:30, '\n",
      "                                '… , 23:30 UTC.\\n'\n",
      "                                '\\n'\n",
      "                                'MERRA-2 is the latest version of global '\n",
      "                                'atmospheric reanalysis for the satellite era '\n",
      "                                'produced by NASA Global Modeling and '\n",
      "                                'Assimilation Office (GMAO) using the Goddard '\n",
      "                                'Earth Observing System Model (GEOS) version '\n",
      "                                '5.12.4.  The dataset covers the period of '\n",
      "                                '1980-present with the latency of ~3 weeks '\n",
      "                                'after the end of a month. \\n'\n",
      "                                '\\n'\n",
      "                                'Data Reprocessing:  Please check “Records of '\n",
      "                                'MERRA-2 Data Reprocessing and Service '\n",
      "                                'Changes” linked from the “Documentation” tab '\n",
      "                                'on this page.  Note that a reprocessed data '\n",
      "                                'filename is different from the original '\n",
      "                                'file.\\n'\n",
      "                                '\\n'\n",
      "                                'MERRA-2 Mailing List: Sign up to receive '\n",
      "                                'information on reprocessing of data, changing '\n",
      "                                'of tools and services, as well as data '\n",
      "                                'announcements from GMAO. Contact the GES DISC '\n",
      "                                'Help Desk (gsfc-dl-help-disc@mail.nasa.gov) '\n",
      "                                'to be added to the list.\\n'\n",
      "                                '\\n'\n",
      "                                'Questions: If you have a question, please '\n",
      "                                'read \"MERRA-2 File Specification Document\",  '\n",
      "                                '“MERRA-2 Data Access – Quick Start Guide”, '\n",
      "                                'and FAQs linked from the ”Documentation” tab '\n",
      "                                'on this page.  If that does not answer your '\n",
      "                                'question, you may post your question to the '\n",
      "                                'NASA Earthdata Forum '\n",
      "                                '(forum.earthdata.nasa.gov) or email the GES '\n",
      "                                'DISC Help Desk '\n",
      "                                '(gsfc-dl-help-disc@mail.nasa.gov).',\n",
      "                     'time_start': '1980-01-01T00:00:00.000Z',\n",
      "                     'title': 'MERRA-2 tavg1_2d_aer_Nx: '\n",
      "                              '2d,1-Hourly,Time-averaged,Single-Level,Assimilation,Aerosol '\n",
      "                              'Diagnostics 0.625 x 0.5 degree V5.12.4 '\n",
      "                              '(M2T1NXAER) at GES DISC',\n",
      "                     'updated': '2015-07-07T00:00:00.000Z',\n",
      "                     'version_id': '5.12.4'}],\n",
      "          'id': 'https://cmr.earthdata.nasa.gov:443/search/collections.json?short_name=M2T1NXAER&version=5.12.4',\n",
      "          'title': 'ECHO dataset metadata',\n",
      "          'updated': '2025-06-13T10:20:50.061Z'}}\n"
     ]
    }
   ],
   "source": [
    "pprint.pprint(cmr_results)"
   ]
  },
  {
   "cell_type": "markdown",
   "metadata": {},
   "source": [
    "## Determine service availability\n",
    "\n",
    "We will determine what services are available for the `harmony_example` collection based on the Harmony capabilities endpoint. "
   ]
  },
  {
   "cell_type": "code",
   "execution_count": 9,
   "metadata": {
    "scrolled": true,
    "tags": []
   },
   "outputs": [
    {
     "data": {
      "text/plain": [
       "[{'name': 'giovanni-time-series-adapter',\n",
       "  'href': 'https://cmr.earthdata.nasa.gov/search/concepts/S2739607260-GES_DISC',\n",
       "  'capabilities': {'subsetting': {'temporal': True,\n",
       "    'variable': True,\n",
       "    'multiple_variable': False},\n",
       "   'output_formats': ['text/csv']}},\n",
       " {'name': 'sds/HOSS-geographic',\n",
       "  'href': 'https://cmr.earthdata.nasa.gov/search/concepts/S2164732315-XYZ_PROV',\n",
       "  'capabilities': {'subsetting': {'temporal': True,\n",
       "    'bbox': True,\n",
       "    'dimension': True,\n",
       "    'shape': True,\n",
       "    'variable': True},\n",
       "   'output_formats': ['application/netcdf', 'application/x-netcdf4']}}]"
      ]
     },
     "execution_count": 9,
     "metadata": {},
     "output_type": "execute_result"
    }
   ],
   "source": [
    "capabilities_url = f'https://harmony.earthdata.nasa.gov/capabilities?collectionId={harmony_collection_id}'\n",
    "capabilities = get_json_response(capabilities_url)\n",
    "capabilities['services']"
   ]
  },
  {
   "cell_type": "markdown",
   "metadata": {},
   "source": [
    "According to the services-uat.yml, our `harmony_example` collection is associated with the `harmony/gdal` service with bounding box and variable subsetting, reprojection, and reformatting. We will request these services below. "
   ]
  },
  {
   "cell_type": "markdown",
   "metadata": {},
   "source": [
    "## Explore the Harmony Root URL\n",
    "\n",
    "Harmony conforms to the OGC API - Coverages specification: https://github.com/opengeospatial/ogc_api_coverages.\n",
    "\n",
    "The basic Harmony URL convention is as follows:\n",
    "\n",
    "`<harmony_root>/<collection_id>/ogc-api-coverages/1.0.0/`\n",
    "\n",
    "We will set the Harmony root path with our chosen collection id:"
   ]
  },
  {
   "cell_type": "code",
   "execution_count": 10,
   "metadata": {
    "tags": []
   },
   "outputs": [
    {
     "name": "stdout",
     "output_type": "stream",
     "text": [
      "Request URL https://harmony.earthdata.nasa.gov/C1276812830-GES_DISC/ogc-api-coverages/1.0.0/\n"
     ]
    }
   ],
   "source": [
    "harmony_root = 'https://harmony.earthdata.nasa.gov'\n",
    "config = {\n",
    "    'collection_id': harmony_collection_id,\n",
    "    'ogc-api-coverages_version': '1.0.0'\n",
    "}\n",
    "coverages_root = harmony_root+'/{collection_id}/ogc-api-coverages/{ogc-api-coverages_version}/'.format(**config)\n",
    "print('Request URL', coverages_root)"
   ]
  },
  {
   "cell_type": "markdown",
   "metadata": {},
   "source": [
    "This root URL of the coverages endpoint provides links to its child resources:"
   ]
  },
  {
   "cell_type": "code",
   "execution_count": 11,
   "metadata": {
    "scrolled": true,
    "tags": []
   },
   "outputs": [
    {
     "name": "stdout",
     "output_type": "stream",
     "text": [
      "{'links': [{'href': 'https://harmony.earthdata.nasa.gov/C1276812830-GES_DISC/ogc-api-coverages/1.0.0/',\n",
      "            'rel': 'self',\n",
      "            'title': 'this document',\n",
      "            'type': 'application/json'},\n",
      "           {'href': 'https://harmony.earthdata.nasa.gov/C1276812830-GES_DISC/ogc-api-coverages/1.0.0/api',\n",
      "            'rel': 'service-desc',\n",
      "            'title': 'the API definition',\n",
      "            'type': 'text/openapi+yaml;version=3.0'},\n",
      "           {'href': 'https://harmony.earthdata.nasa.gov/C1276812830-GES_DISC/ogc-api-coverages/1.0.0/conformance',\n",
      "            'rel': 'conformance',\n",
      "            'title': 'OGC conformance classes implemented by this API',\n",
      "            'type': 'application/json'},\n",
      "           {'href': 'https://harmony.earthdata.nasa.gov/C1276812830-GES_DISC/ogc-api-coverages/1.0.0/collections',\n",
      "            'rel': 'data',\n",
      "            'title': 'Metadata about the resource collections',\n",
      "            'type': 'application/json'}]}\n"
     ]
    }
   ],
   "source": [
    "root_json = get_json_response(coverages_root)\n",
    "pprint.pprint(root_json)"
   ]
  },
  {
   "cell_type": "markdown",
   "metadata": {},
   "source": [
    "The `service_desc` endpoint contains OpenAPI documentation, including information on all supported request parameters: "
   ]
  },
  {
   "cell_type": "code",
   "execution_count": 12,
   "metadata": {
    "scrolled": true,
    "tags": [
     "outputPrepend"
    ]
   },
   "outputs": [
    {
     "name": "stdout",
     "output_type": "stream",
     "text": [
      "b'openapi: 3.0.1\\ninfo:\\n  title: Harmony API conforming to OGC API - Coverages\\n  description:\\n    \"Harmony API for requesting coverages for a range of NASA EOSDIS data\\n    using thc OGC API - Coverages\"\\n  version: 1.0.0\\nservers:\\n  - url: /{cmrCollectionId}/ogc-api-coverages/1.0.0\\n    description: Harmony server\\n    variables:\\n      cmrCollectionId:\\n        default: C1276812830-GES_DISC\\n        description: The CMR Collection ID for the dataset whose coverage is being accessed\\ntags:\\n  - name: Capabilities\\n    description: Essential characteristics of this API including information about the data.\\n  - name: Coverage\\n    description: Access to data (coverage).\\npaths:\\n  /:\\n    get:\\n      tags:\\n        - Capabilities\\n      summary: landing page of this API\\n      description:\\n        The landing page provides links to the API definition, the Conformance\\n        statements and the metadata about the coverage data in this dataset.\\n      operationId: getLandingPage\\n      responses:\\n        \"200\":\\n          description: links to the API capabilities\\n          content:\\n            application/json:\\n              schema:\\n                $ref: \"#/components/schemas/root\"\\n        default:\\n          $ref: \"#/components/responses/default\"\\n  /api:\\n    get:\\n      tags:\\n        - OpenAPI\\n      summary: this OpenAPI Schema\\n      description: Returns the OpenAPI Schema for this coverage endpoint\\n      operationId: getSpecification\\n      responses:\\n        \"200\":\\n          description: this OpenAPI Schema\\n          content:\\n            \"text/openapi+yaml;version=3.0\":\\n              schema:\\n                type: string\\n        default:\\n          $ref: \"#/components/responses/default\"\\n  /conformance:\\n    get:\\n      tags:\\n        - Capabilities\\n      summary: information about standards that this API conforms to\\n      description: list all requirements classes specified in a standard\\n        that the server conforms to\\n      operationId: getRequirementsClasses\\n      responses:\\n        \"200\":\\n          description: the URIs of all requirements classes supported by the server\\n          content:\\n            application/json:\\n              schema:\\n                $ref: \"#/components/schemas/req-classes\"\\n        default:\\n          $ref: \"#/components/responses/default\"\\n  /collections:\\n    get:\\n      tags:\\n        - Capabilities\\n      summary: Describe the collections in the dataset\\n      operationId: describeCollections\\n      parameters:\\n        - name: limit\\n          in: query\\n          description: Not yet implemented\\n          required: false\\n          style: form\\n          explode: false\\n          schema:\\n            maximum: 10000\\n            minimum: 1\\n            type: integer\\n            default: 10\\n        - name: bbox\\n          in: query\\n          description: Not yet implemented\\n          required: false\\n          style: form\\n          explode: false\\n          schema:\\n            maxItems: 6\\n            minItems: 4\\n            type: array\\n            items:\\n              type: number\\n        - name: time\\n          in: query\\n          description: Not yet implemented\\n          required: false\\n          style: form\\n          explode: false\\n          schema:\\n            type: string\\n        - name: f\\n          in: query\\n          description: |\\n            The optional f parameter indicates the output format which the server shall provide as part of the response document. It has preference over the HTTP Accept header. The default format is JSON.\\n          required: false\\n          style: form\\n          explode: false\\n          schema:\\n            type: string\\n            default: json\\n            enum:\\n              - json\\n              - html\\n      responses:\\n        \"200\":\\n          description: Metadata about the collections shared by this API.\\n          content:\\n            application/json:\\n              schema:\\n                $ref: \"#/components/schemas/content\"\\n            text/html:\\n              schema:\\n                type: string\\n        default:\\n          $ref: \"#/components/responses/default\"\\n  /collections/{collectionId}:\\n    get:\\n      tags:\\n        - Capabilities\\n      summary: Describe the {collectionId} collection\\n      operationId: describeCollection\\n      parameters:\\n        - name: collectionId\\n          in: path\\n          description: Not yet implemented\\n          required: true\\n          style: simple\\n          explode: false\\n          schema:\\n            type: string\\n      responses:\\n        \"200\":\\n          description:\\n            Metadata about the {collectionId} collection shared by this\\n            API.\\n          content:\\n            application/json:\\n              schema:\\n                $ref: \"#/components/schemas/collectionInfo\"\\n            text/html:\\n              schema:\\n                type: string\\n        default:\\n          $ref: \"#/components/responses/default\"\\n  /collections/{collectionId}/coverage:\\n    get:\\n      tags:\\n        - Coverage\\n      summary:\\n        (Not yet implemented) description of the coverage offering identified by {collectionId} including\\n        envelope\\n      description: Not yet implemented\\n      operationId: getCoverageOffering\\n      parameters:\\n        - name: collectionId\\n          in: path\\n          description: Identifier (name) of a specific collection\\n          required: true\\n          style: simple\\n          explode: false\\n          schema:\\n            type: string\\n      responses:\\n        \"200\":\\n          description: Information about the coverage collection.\\n          content:\\n            application/json:\\n              schema:\\n                $ref: \"#/components/schemas/coverageOffering\"\\n            text/html:\\n              schema:\\n                type: string\\n        default:\\n          $ref: \"#/components/responses/default\"\\n  /collections/{collectionId}/coverage/description:\\n    get:\\n      tags:\\n        - Coverage\\n      summary:\\n        (Not yet implemented) returns the whole coverage description consisting of domainset, rangetype,\\n        and metadata (but not the rangeset)\\n      description: Not yet implemented\\n      operationId: getCoverageDescription\\n      parameters:\\n        - name: collectionId\\n          in: path\\n          description: Identifier (name) of a specific collection\\n          required: true\\n          style: simple\\n          explode: false\\n          schema:\\n            type: string\\n        - name: subset\\n          in: query\\n          description: Not yet implemented\\n          required: false\\n          style: form\\n          explode: true\\n          schema:\\n            type: string\\n      responses:\\n        \"200\":\\n          description: A coverage description.\\n          content:\\n            application/json:\\n              schema:\\n                $ref: \"#/components/schemas/coverageDescription\"\\n            text/html:\\n              schema:\\n                type: string\\n        default:\\n          $ref: \"#/components/responses/default\"\\n  /collections/{collectionId}/coverage/domainset:\\n    get:\\n      tags:\\n        - Coverage\\n      summary:\\n        (Not yet implemented) retrieve a coverages domainset; use content negotiation to request\\n        HTML or GeoJSON\\n      description: Not yet implemented\\n      operationId: getCoverageDomainSet\\n      parameters:\\n        - name: collectionId\\n          in: path\\n          description: Identifier (name) of a specific collection\\n          required: true\\n          style: simple\\n          explode: false\\n          schema:\\n            type: string\\n        - name: subset\\n          in: query\\n          description: Not yet implemented\\n          required: false\\n          style: form\\n          explode: true\\n          schema:\\n            type: string\\n      responses:\\n        \"200\":\\n          description: A coverages domainset.\\n          content:\\n            application/json:\\n              schema:\\n                $ref: http://schemas.opengis.net/cis/1.1/json/coverage-schema.json#/definitions/domainSet\\n            text/html:\\n              schema:\\n                type: string\\n        default:\\n          $ref: \"#/components/responses/default\"\\n  /collections/{collectionId}/coverage/rangetype:\\n    get:\\n      tags:\\n        - Coverage\\n      summary:\\n        (Not yet implemented) retrieve a coverage\\'s rangetype; use content negotiation to request\\n        HTML or GeoJSON\\n      description: Not yet implemented\\n      operationId: getCoverageRangeType\\n      parameters:\\n        - $ref: \"#/components/parameters/collectionId\"\\n      responses:\\n        \"200\":\\n          description: A coverage\\'s rangetype.\\n          content:\\n            application/geo+json:\\n              schema:\\n                $ref: http://schemas.opengis.net/cis/1.1/json/coverage-schema.json#/definitions/rangeType\\n            text/html:\\n              schema:\\n                type: string\\n        default:\\n          $ref: \"#/components/responses/default\"\\n  /collections/{collectionId}/coverage/metadata:\\n    get:\\n      tags:\\n        - Coverage\\n      summary:\\n        (Not yet implemented) retrieve a coverage\\'s metadata; use content negotiation to request\\n        HTML or GeoJSON\\n      description: Not yet implemented\\n      operationId: getCoverageMetadata\\n      parameters:\\n        - $ref: \"#/components/parameters/collectionId\"\\n      responses:\\n        \"200\":\\n          description: A coverage\\'s metadata.\\n          content:\\n            application/json:\\n              schema:\\n                $ref: \"#/components/schemas/coverageMetadata\"\\n            text/html:\\n              schema:\\n                type: string\\n        default:\\n          $ref: \"#/components/responses/default\"\\n  /collections/{collectionId}/coverage/rangeset:\\n    get:\\n      tags:\\n        - Coverage\\n      summary: Retrieve a coverage\\'s rangeset\\n      description: Retrieve the coverage\\'s rangeset, i.e. its data values in their native format\\n      operationId: getCoverageRangeset\\n      parameters:\\n        - $ref: \"#/components/parameters/collectionId\"\\n        - $ref: \"#/components/parameters/outputCrs\"\\n        - $ref: \"#/components/parameters/subset\"\\n        - $ref: \"#/components/parameters/interpolation\"\\n        - $ref: \"#/components/parameters/scaleExtent\"\\n        - $ref: \"#/components/parameters/scaleSize\"\\n        # Parameters below this line are not part of the OGC specification\\n        - $ref: \"#/components/parameters/concatenate\"\\n        - $ref: \"#/components/parameters/granuleId\"\\n        - $ref: \"#/components/parameters/point\"\\n        - $ref: \"#/components/parameters/width\"\\n        - $ref: \"#/components/parameters/height\"\\n        - $ref: \"#/components/parameters/format\"\\n        - $ref: \"#/components/parameters/forceAsync\"\\n        - $ref: \"#/components/parameters/serviceId\"\\n        - $ref: \"#/components/parameters/maxResults\"\\n        - $ref: \"#/components/parameters/skipPreview\"\\n        - $ref: \"#/components/parameters/ignoreErrors\"\\n        - $ref: \"#/components/parameters/destinationUrl\"\\n        - $ref: \"#/components/parameters/granuleName\"\\n        - $ref: \"#/components/parameters/grid\"\\n        - $ref: \"#/components/parameters/extend\"\\n        - $ref: \"#/components/parameters/variable\"\\n        - $ref: \"#/components/parameters/average\"\\n        - $ref: \"#/components/parameters/label\"\\n        - $ref: \"#/components/parameters/pixelSubset\"\\n      responses:\\n        \"200\":\\n          description: A coverage\\'s range set.\\n          content:\\n            image/*:\\n              schema:\\n                $ref: \"#/components/schemas/rangeSetImage\"\\n            application/*:\\n              schema:\\n                $ref: \"#/components/schemas/rangeSetImage\"\\n        default:\\n          $ref: \"#/components/responses/default\"\\n    post:\\n      tags:\\n        - Coverage\\n      summary: Retrieve a coverage\\'s rangeset\\n      description: Retrieve the coverage\\'s rangeset, i.e. its data values in their native format\\n      operationId: postCoverageRangeset\\n      parameters:\\n        - $ref: \"#/components/parameters/collectionId\"\\n        - $ref: \"#/components/parameters/outputCrs\"\\n        - $ref: \"#/components/parameters/subset\"\\n        - $ref: \"#/components/parameters/interpolation\"\\n        - $ref: \"#/components/parameters/scaleExtent\"\\n        - $ref: \"#/components/parameters/scaleSize\"\\n        # Parameters below this line are not part of the OGC specification\\n        - $ref: \"#/components/parameters/concatenate\"\\n        - $ref: \"#/components/parameters/granuleId\"\\n        - $ref: \"#/components/parameters/point\"\\n        - $ref: \"#/components/parameters/width\"\\n        - $ref: \"#/components/parameters/height\"\\n        - $ref: \"#/components/parameters/format\"\\n        - $ref: \"#/components/parameters/forceAsync\"\\n        - $ref: \"#/components/parameters/serviceId\"\\n        - $ref: \"#/components/parameters/maxResults\"\\n        - $ref: \"#/components/parameters/skipPreview\"\\n        - $ref: \"#/components/parameters/ignoreErrors\"\\n        - $ref: \"#/components/parameters/destinationUrl\"\\n        - $ref: \"#/components/parameters/granuleName\"\\n        - $ref: \"#/components/parameters/grid\"\\n        - $ref: \"#/components/parameters/extend\"\\n        - $ref: \"#/components/parameters/variable\"\\n        - $ref: \"#/components/parameters/average\"\\n        - $ref: \"#/components/parameters/label\"\\n        - $ref: \"#/components/parameters/pixelSubset\"\\n      requestBody:\\n        content:\\n          multipart/form-data:\\n            schema:\\n              type: object\\n              properties:\\n                shapefile:\\n                  type: string\\n                  format: binary\\n            encoding:\\n              shapefile:\\n                contentType: \"application/geo+json,application/shapefile+zip,application/vnd.google-earth.kml+xml\"\\n\\n      responses:\\n        \"200\":\\n          description: A coverage\\'s range set.\\n          content:\\n            image/*:\\n              schema:\\n                $ref: \"#/components/schemas/rangeSetImage\"\\n            application/*:\\n              schema:\\n                $ref: \"#/components/schemas/rangeSetImage\"\\n        default:\\n          $ref: \"#/components/responses/default\"\\n  /collections/{collectionId}/coverage/all:\\n    get:\\n      tags:\\n        - Coverage\\n      summary:\\n        (Not yet implemented) retrieve a coverages rangeset; use content negotiation to request HTML\\n        or GeoJSON\\n      description: Not yet implemented\\n      operationId: getCoverageAll\\n      parameters:\\n        - $ref: \"#/components/parameters/collectionId\"\\n        - $ref: \"#/components/parameters/subset\"\\n        - $ref: \"#/components/parameters/rangeSubset\"\\n        - $ref: \"#/components/parameters/scaleFactor\"\\n        - $ref: \"#/components/parameters/scaleAxis\"\\n        - $ref: \"#/components/parameters/scaleSize\"\\n        - $ref: \"#/components/parameters/scaleExtent\"\\n        - $ref: \"#/components/parameters/subsettingCrs\"\\n        - $ref: \"#/components/parameters/outputCrs\"\\n        - $ref: \"#/components/parameters/interpolation\"\\n      responses:\\n        \"200\":\\n          description: A full coverage.\\n          content:\\n            application/multipart+related:\\n              schema:\\n                $ref: \"#/components/schemas/coverageMultipart\"\\n            image/*:\\n              schema:\\n                $ref: \"#/components/schemas/rangeSetImage\"\\n            application/*:\\n              schema:\\n                $ref: \"#/components/schemas/rangeSetImage\"\\n            text/html:\\n              schema:\\n                type: string\\n        default:\\n          $ref: \"#/components/responses/default\"\\ncomponents:\\n  responses:\\n    default:\\n      description: An error occured.\\n      content:\\n        application/json:\\n          schema:\\n            $ref: \"#/components/schemas/exception\"\\n        text/html:\\n          schema:\\n            type: string\\n  schemas:\\n    exception:\\n      required:\\n        - code\\n      type: object\\n      properties:\\n        code:\\n          type: string\\n        description:\\n          type: string\\n    root:\\n      required:\\n        - links\\n      type: object\\n      properties:\\n        links:\\n          type: array\\n          example:\\n            - href: http://data.example.org/\\n              rel: self\\n              type: application/json\\n              title: this document\\n            - href: http://data.example.org/api\\n              rel: service\\n              type: application/openapi+json;version=3.0\\n              title: the API definition\\n            - href: http://data.example.org/conformance\\n              rel: conformance\\n              type: application/json\\n              title: OGC conformance classes implemented by this API\\n            - href: http://data.example.org/collections\\n              title: Metadata about the resource collections\\n          items:\\n            $ref: \"#/components/schemas/link\"\\n    req-classes:\\n      required:\\n        - conformsTo\\n      type: object\\n      properties:\\n        conformsTo:\\n          type: array\\n          example:\\n            - http://www.opengis.net/spec/ogcapi-common/1.0/conf/core\\n            - http://www.opengis.net/spec/ogcapi-common/1.0/conf/collections\\n            - http://www.opengis.net/spec/ogcapi-common/1.0/conf/oas3\\n            - http://www.opengis.net/spec/ogcapi-common/1.0/conf/html\\n            - http://www.opengis.net/spec/ogcapi-common/1.0/conf/geojson\\n            - http://www.opengis.net/spec/ogcapi-coverages/1.0/conf/core\\n          items:\\n            type: string\\n    link:\\n      required:\\n        - href\\n      type: object\\n      properties:\\n        href:\\n          type: string\\n        rel:\\n          type: string\\n          example: prev\\n        type:\\n          type: string\\n          example: application/geo+json\\n        hreflang:\\n          type: string\\n          example: en\\n    content:\\n      required:\\n        - collections\\n        - links\\n      type: object\\n      properties:\\n        links:\\n          type: array\\n          example:\\n            - href: http://data.example.org/collections.json\\n              rel: self\\n              type: application/json\\n              title: this document\\n            - href: http://data.example.org/collections.html\\n              rel: alternate\\n              type: text/html\\n              title: this document as HTML\\n            - href: http://schemas.example.org/1.0/foobar.xsd\\n              rel: describedBy\\n              type: application/xml\\n              title: XML schema for Acme Corporation data\\n          items:\\n            $ref: \"#/components/schemas/link\"\\n        collections:\\n          type: array\\n          items:\\n            $ref: \"#/components/schemas/collectionInfo\"\\n    collectionInfo:\\n      required:\\n        - links\\n        - name\\n      type: object\\n      properties:\\n        name:\\n          type: string\\n          description: identifier of the collection used, for example, in URIs\\n          example: buildings\\n        title:\\n          type: string\\n          description: human readable title of the collection\\n          example: Buildings\\n        description:\\n          type: string\\n          description: a description of the data in the collection\\n          example: Buildings in the city of Bonn.\\n        links:\\n          type: array\\n          example:\\n            - href: http://data.example.org/collections/buildings/items\\n              rel: item\\n              type: application/geo+json\\n              title: Buildings\\n            - href: http://example.org/concepts/building.html\\n              rel: describedBy\\n              type: text/html\\n              title: Coverage for buildings\\n          items:\\n            $ref: \"#/components/schemas/link\"\\n        extent:\\n          $ref: \"#/components/schemas/extent\"\\n        crs:\\n          type: array\\n          description:\\n            The coordinate reference systems in which geometries may be\\n            retrieved. Coordinate reference systems are identified by a URI. The first\\n            coordinate reference system is the coordinate reference system that is\\n            used by default. This is always \"http://www.opengis.net/def/crs/OGC/1.3/CRS84\",\\n            i.e. WGS84 longitude/latitude.\\n          items:\\n            type: string\\n          default:\\n            - http://www.opengis.net/def/crs/OGC/1.3/CRS84\\n    extent:\\n      type: object\\n      properties:\\n        crs:\\n          type: string\\n          description:\\n            Coordinate reference system of the coordinates in the spatial\\n            extent (property `spatial`). In the Core, only WGS84 longitude/latitude\\n            is supported. Extensions may support additional coordinate reference systems.\\n          default: http://www.opengis.net/def/crs/OGC/1.3/CRS84\\n          enum:\\n            - http://www.opengis.net/def/crs/OGC/1.3/CRS84\\n        spatial:\\n          maxItems: 6\\n          minItems: 4\\n          type: array\\n          description:\\n            West, north, east, south edges of the spatial extent. The minimum\\n            and maximum values apply to the coordinate reference system WGS84 longitude/latitude\\n            that is supported in the Core. If, for example, a projected coordinate\\n            reference system is used, the minimum and maximum values need to be adjusted.\\n          example:\\n            - -180\\n            - -90\\n            - 180\\n            - 90\\n          items:\\n            type: number\\n        trs:\\n          type: string\\n          description:\\n            Temporal reference system of the coordinates in the temporal\\n            extent (property `temporal`). In the Core, only the Gregorian calendar\\n            is supported. Extensions may support additional temporal reference systems.\\n          default: http://www.opengis.net/def/uom/ISO-8601/0/Gregorian\\n          enum:\\n            - http://www.opengis.net/def/uom/ISO-8601/0/Gregorian\\n        temporal:\\n          maxItems: 2\\n          minItems: 2\\n          type: array\\n          description: Begin and end times of the temporal extent.\\n          example:\\n            - 2011-11-11T12:22:11.000Z\\n            - 2012-11-24T12:32:43.000Z\\n          items:\\n            type: string\\n            format: dateTime\\n    coverageOffering:\\n      type: string\\n    coverageDescription:\\n      type: string\\n    coverageMetadata:\\n      type: string\\n    coverageMultipart:\\n      type: string\\n    rangeSetImage:\\n      type: string\\n  parameters:\\n    limit:\\n      name: limit\\n      in: query\\n      description: |\\n        The optional limit parameter limits the number of items that are\\n        presented in the response document.\\n\\n        Only items are counted that are on the first level of the collection in\\n        the response document. Nested objects contained within the explicitly\\n        requested items shall not be counted.\\n\\n        * Minimum = 1\\n        * Maximum = 10000\\n        * Default = 10\\n      required: false\\n      style: form\\n      explode: false\\n      schema:\\n        maximum: 10000\\n        minimum: 1\\n        type: integer\\n        default: 10\\n    bbox:\\n      name: bbox\\n      in: query\\n      description: |\\n        Only collections that have a geometry that intersects the bounding box are selected. The bounding box is provided as four or six numbers, depending on whether the coordinate reference system includes a vertical axis (elevation or depth):\\n        * Lower left corner, coordinate axis 1 * Lower left corner, coordinate axis 2 * Lower left corner, coordinate axis 3 (optional) * Upper right corner, coordinate axis 1 * Upper right corner, coordinate axis 2 * Upper right corner, coordinate axis 3 (optional)\\n        The coordinate reference system of the values is WGS84 longitude/latitude (http://www.opengis.net/def/crs/OGC/1.3/CRS84) unless a different coordinate reference system is specified in the parameter `bbox-crs`.\\n        For WGS84 longitude/latitude the values are in most cases the sequence of minimum longitude, minimum latitude, maximum longitude and maximum latitude. However, in cases where the box spans the antimeridian the first value (west-most box edge) is larger than the third value (east-most box edge).\\n        If a collection has multiple spatial geometry properties, it is the decision of the server whether only a single spatial geometry property is used to determine the extent or all relevant geometries.\\n      required: false\\n      style: form\\n      explode: false\\n      schema:\\n        maxItems: 6\\n        minItems: 4\\n        type: array\\n        items:\\n          type: number\\n    point:\\n      name: point\\n      in: query\\n      description: |\\n        Only collections that have a geometry that contains a spatial point are selected. The spatial point is provided as two numbers:\\n        * Longitude, coordinate axis 1 * Latitude, coordinate axis 2\\n        The coordinate reference system of the values is WGS84 longitude/latitude (http://www.opengis.net/def/crs/OGC/1.3/CRS84).\\n      required: false\\n      style: form\\n      explode: false\\n      schema:\\n        maxItems: 2\\n        minItems: 2\\n        type: array\\n        items:\\n          type: number\\n    time:\\n      name: time\\n      in: query\\n      description: |-\\n        Either a date-time or a period string that adheres to RFC 3339. Examples:\\n        * A date-time: \"2018-02-12T23:20:50Z\" * A period: \"2018-02-12T00:00:00Z/2018-03-18T12:31:12Z\" or \"2018-02-12T00:00:00Z/P1M6DT12H31M12S\"\\n        Only collections that have a temporal property that intersects the value of `time` are selected.\\n        If a collection has multiple temporal properties, it is the decision of the server whether only a single temporal property is used to determine the extent or all relevant temporal properties.\\n      required: false\\n      style: form\\n      explode: false\\n      schema:\\n        type: string\\n    collectionId:\\n      name: collectionId\\n      in: path\\n      description: |-\\n        Names or concept ids of the UMM-Var variables to be retrieved, or \"all\" to retrieve all variables within the CMR collection(s).\\n        Multiple variables may be retrieved by separating them with a comma.  This API interprets OGC \"collections\" to be\\n        equivalent to CMR \"variables\" which produces some overloading in the name.  In this document, a \"collection\" is\\n        a CMR / UMM-Var variable and a \"CMR collection\" is a CMR / UMM-C collection.\\n      required: true\\n      style: simple\\n      explode: false\\n      schema:\\n        type: string\\n    granuleId:\\n      name: granuleId\\n      in: query\\n      description: The CMR Granule ID for the granule which should be retrieved\\n      required: false\\n      style: form\\n      explode: true\\n      schema:\\n        type: array\\n        items:\\n          type: string\\n          minLength: 1\\n    subset:\\n      name: subset\\n      in: query\\n      description: \\'\\n        get a subset of the coverage by slicing or trimming among one axis.  Harmony supports\\n        the axes \"lat\" and \"lon\" for spatial subsetting, and \"time\" for temporal, regardless of the names\\n        of those axes in the data files. Harmony also supports arbitrary dimension names for subsetting\\n        on numeric ranges for that dimension.\\n\\n        Examples:\\n        - Subset to the lat/lon bounding box with southwest corner (-10, -10) and northeast corner (10, 10)\\n        subset=lat(-10:10)&subset=lon(-10:10)\\n        - Subset to all latitudes north of -10 degrees and all longitudes west of 10 degrees\\n        subset=lat(-10:*)&subset=lon(*:10)\\n        - Subset to only points with latitudes from -10 to 10 degrees, disregarding longitude\\n        subset=lat(-10:10)\\n        - Subset to the first month of 2020\\n        subset=time(\"2020-01-01T00:00:00Z\":\"2020-02-01T00:00:00Z\")\\n        - Subset on arbitrary dimension \"vertical\" with a value between 0 and 20\\n        subset=vertical(0:20)\\n\\n        For full syntax and examples, see\\n        https://github.com/opengeospatial/ogc_api_coverages/blob/master/standard/clause_9_subset.adoc\\'\\n      required: false\\n      style: form\\n      explode: true\\n      schema:\\n        type: array\\n        items:\\n          type: string\\n    rangeSubset:\\n      name: rangeSubset\\n      in: query\\n      description:\\n        subset the resulting coverage by choosing and/or rearrange particular\\n        fields\\n      required: false\\n      style: form\\n      explode: true\\n      schema:\\n        type: string\\n    scaleFactor:\\n      name: scaleFactor\\n      in: query\\n      description: scale the resulting coverage either among all axes by a given factor\\n      required: false\\n      style: form\\n      explode: true\\n      schema:\\n        type: string\\n    scaleAxis:\\n      name: scaleAxis\\n      in: query\\n      description: scale the resulting coverage either among one axis by a given factor\\n      required: false\\n      style: form\\n      explode: true\\n      schema:\\n        type: string\\n    scaleSize:\\n      name: scaleSize\\n      in: query\\n      description: scale the resulting coverage either among one axis to a given size\\n      required: false\\n      style: form\\n      explode: false\\n      schema:\\n        minItems: 2\\n        maxItems: 2\\n        type: array\\n        items:\\n          type: number\\n          minimum: 0\\n    scaleExtent:\\n      name: scaleExtent\\n      in: query\\n      description: scale the resulting coverage either among one axis to a given extent\\n      required: false\\n      style: form\\n      explode: false\\n      schema:\\n        minItems: 4\\n        maxItems: 4\\n        type: array\\n        items:\\n          type: number\\n    subsettingCrs:\\n      name: subsettingcrs\\n      in: query\\n      description: specify the projection in which the subsets are expressed\\n      required: false\\n      style: form\\n      explode: true\\n      schema:\\n        type: string\\n    outputCrs:\\n      name: outputcrs\\n      in: query\\n      description:\\n        reproject the output coverage to the given CRS.  Recognizes CRS types that can be inferred\\n        by gdal, including EPSG codes, Proj4 strings, and OGC URLs (http://www.opengis.net/def/crs/...)\\n      required: false\\n      style: form\\n      explode: true\\n      schema:\\n        type: string\\n    interpolation:\\n      name: interpolation\\n      in: query\\n      description: specify the interpolation method used during reprojection and scaling\\n      required: false\\n      style: form\\n      explode: true\\n      schema:\\n        type: string\\n    width:\\n      name: width\\n      in: query\\n      description: number of columns to return in the output coverage\\n      required: false\\n      schema:\\n        type: integer\\n        minimum: 1\\n    height:\\n      name: height\\n      in: query\\n      description: number of rows to return in the output coverage\\n      required: false\\n      schema:\\n        type: integer\\n        minimum: 1\\n    format:\\n      name: format\\n      in: query\\n      description: the output mime type to return\\n      required: false\\n      schema:\\n        type: string\\n        example:\\n          - \"application/x-zarr\"\\n          - \"image/tiff\"\\n          - \"image/png\"\\n    forceAsync:\\n      name: forceAsync\\n      in: query\\n      description: if \"true\", override the default API behavior and always treat the request as asynchronous\\n      required: false\\n      schema:\\n        type: string\\n    serviceId:\\n      name: serviceId\\n      in: query\\n      description: Either the CMR concept ID or the name in services.yml for the UMM-S service chain to invoke. Useful for testing a service chain against a collection not yet configured for use with that service chain.\\n      required: false\\n      style: form\\n      explode: true\\n      schema:\\n        type: string\\n    maxResults:\\n      name: maxResults\\n      in: query\\n      description: limits the number of input granules processed in the request\\n      required: false\\n      schema:\\n        type: integer\\n        minimum: 1\\n    concatenate:\\n      name: concatenate\\n      in: query\\n      description: requests results to be concatenated into a single result\\n      required: false\\n      schema:\\n        type: string\\n    skipPreview:\\n      name: skipPreview\\n      in: query\\n      description: if \"true\", override the default API behavior and never auto-pause jobs\\n      required: false\\n      schema:\\n        type: string\\n    ignoreErrors:\\n      name: ignoreErrors\\n      in: query\\n      description: |\\n        if \"true\", continue processing a request to completion even if some items fail. If \"false\",\\n        immediately fail the request on the first failure. Defaults to true.\\n      required: false\\n      schema:\\n        type: string\\n    destinationUrl:\\n      name: destinationUrl\\n      in: query\\n      description: |\\n        destination url specified by the client, currently only s3 link url is supported\\n        (e.g. s3://my-bucket-name/mypath) and will result in the job being run asynchronously\\n      required: false\\n      schema:\\n        type: string\\n    granuleName:\\n      name: granuleName\\n      in: query\\n      description: |\\n        passed to the CMR search as the readable_granule_name parameter. Supports * and ? wildcards\\n        for multiple and single character matches. Wildcards can be used any place in the name,\\n        but leading wildcards are discouraged as they require a lot of resources for the underlying\\n        search.\\n      required: false\\n      style: form\\n      explode: true\\n      schema:\\n        type: array\\n        items:\\n          type: string\\n          minLength: 1\\n    grid:\\n      name: grid\\n      in: query\\n      description: |\\n        the name of the output grid to use for regridding requests. The name must match the UMM\\n        grid name in the CMR.\\n      required: false\\n      schema:\\n        type: string\\n    extend:\\n      name: extend\\n      in: query\\n      description: |\\n        the name or concept id of the variable to extend\\n      required: false\\n      schema:\\n        type: string\\n    variable:\\n      name: variable\\n      in: query\\n      description: |\\n        the names or concept ids of the variables to subset\\n      required: false\\n      style: form\\n      explode: true\\n      schema:\\n        type: array\\n        items:\\n          type: string\\n          minLength: 1\\n    average:\\n      name: average\\n      in: query\\n      description: |\\n        requests the data to be averaged over time or area\\n      required: false\\n      schema:\\n        type: string\\n    label:\\n      name: label\\n      in: query\\n      description: |\\n        the labels for the job\\n      required: false\\n      style: form\\n      explode: true\\n      schema:\\n        type: array\\n        items:\\n          type: string\\n          minLength: 1\\n    pixelSubset:\\n      name: pixelSubset\\n      in: query\\n      description: if \"true\", pixel subset will be performed by the service\\n      required: false\\n      schema:\\n        type: string'\n"
     ]
    }
   ],
   "source": [
    "service_desc = harmony_root+'/{collection_id}/ogc-api-coverages/{ogc-api-coverages_version}/api/'.format(**config)\n",
    "service_txt = submit_request(service_desc)\n",
    "print(service_txt)"
   ]
  },
  {
   "cell_type": "markdown",
   "metadata": {},
   "source": [
    "The `conformance` endpoint provides the specifications this API conforms to:"
   ]
  },
  {
   "cell_type": "code",
   "execution_count": 13,
   "metadata": {
    "tags": []
   },
   "outputs": [
    {
     "name": "stdout",
     "output_type": "stream",
     "text": [
      "{'conformsTo': ['http://www.opengis.net/spec/ogcapi-common-1/1.0/conf/core', 'http://www.opengis.net/spec/ogcapi-common-1/1.0/conf/collections', 'http://www.opengis.net/spec/ogcapi-coverages-1/1.0/conf/core']}\n"
     ]
    }
   ],
   "source": [
    "conform_desc = harmony_root+'/{collection_id}/ogc-api-coverages/{ogc-api-coverages_version}/conformance/'.format(**config)\n",
    "conform_json = get_json_response(conform_desc)\n",
    "print(conform_json)"
   ]
  },
  {
   "cell_type": "markdown",
   "metadata": {},
   "source": [
    "The `collections` endpoint provides metadata on the resource collections, which include variable metadata from CMR's [UMM-Var schema](https://git.earthdata.nasa.gov/projects/EMFD/repos/unified-metadata-model/browse/variable) in this example:"
   ]
  },
  {
   "cell_type": "code",
   "execution_count": 14,
   "metadata": {
    "scrolled": true,
    "tags": []
   },
   "outputs": [
    {
     "name": "stdout",
     "output_type": "stream",
     "text": [
      "{'collections': [{'description': 'Black Carbon Column Mass Density M2T1NXAER '\n",
      "                                 'v5.12.4 (NASA/GSFC/SED/ESD/TISL/GESDISC)',\n",
      "                  'extent': {'spatial': {'bbox': [-90, -180, 90, 180],\n",
      "                                         'crs': 'http://www.opengis.net/def/crs/OGC/1.3/CRS84'},\n",
      "                             'temporal': {'interval': ['1980-01-01T00:00:00.000Z',\n",
      "                                                       None],\n",
      "                                          'trs': 'http://www.opengis.net/def/uom/ISO-8601/0/Gregorian'}},\n",
      "                  'id': 'C1276812830-GES_DISC/V3171509330-GES_DISC',\n",
      "                  'itemType': 'Variable',\n",
      "                  'links': [{'href': 'https://harmony.earthdata.nasa.gov/C1276812830-GES_DISC/ogc-api-coverages/1.0.0/collections/BCCMASS/coverage/rangeset',\n",
      "                             'title': 'Perform rangeset request for BCCMASS'}],\n",
      "                  'title': 'BCCMASS M2T1NXAER v5.12.4'}],\n",
      " 'links': [{'href': 'https://harmony.earthdata.nasa.gov/C1276812830-GES_DISC/ogc-api-coverages/1.0.0',\n",
      "            'rel': 'root',\n",
      "            'title': 'OGC coverages API root for M2T1NXAER v5.12.4',\n",
      "            'type': 'application/json'},\n",
      "           {'href': 'https://harmony.earthdata.nasa.gov/C1276812830-GES_DISC/ogc-api-coverages/1.0.0/collections',\n",
      "            'rel': 'self',\n",
      "            'title': 'Collections listing for M2T1NXAER v5.12.4',\n",
      "            'type': 'application/json'}]}\n"
     ]
    }
   ],
   "source": [
    "collections_desc = harmony_root+'/{collection_id}/ogc-api-coverages/{ogc-api-coverages_version}/collections/'.format(**config)\n",
    "collections_json = get_json_response(collections_desc)\n",
    "pprint.pprint(collections_json)"
   ]
  },
  {
   "cell_type": "code",
   "execution_count": 15,
   "metadata": {},
   "outputs": [],
   "source": [
    "def wait_for_job_completion(job_status_url):\n",
    "    while True:\n",
    "        try:\n",
    "            response_json = get_json_response(job_status_url)\n",
    "            status = response_json.get('status')\n",
    "\n",
    "            if status != 'previewing' and status != 'running':\n",
    "                print(f\"status: {status}\")\n",
    "                return response_json\n",
    "            else:\n",
    "                print(\"Waiting for 10 seconds before retrying...\")\n",
    "                time.sleep(10)\n",
    "\n",
    "        except Exception as e:\n",
    "            print(f\"An error occurred: {e}\")\n",
    "            break\n"
   ]
  },
  {
   "cell_type": "code",
   "execution_count": 16,
   "metadata": {
    "tags": []
   },
   "outputs": [
    {
     "name": "stdout",
     "output_type": "stream",
     "text": [
      "Request URL https://harmony.earthdata.nasa.gov/C1276812830-GES_DISC/ogc-api-coverages/1.0.0/collections/parameter_vars/coverage/rangeset?granuleid=G2613562772-GES_DISC&format=application%2Fx-netcdf4&variable=TOTEXTTAU&subset=lon%2868.08615233%3A97.47399721%29&subset=lat%286.69169395%3A37.15140621%29\n"
     ]
    }
   ],
   "source": [
    "from urllib import parse\n",
    "granule_id = 'G2613562772-GES_DISC'\n",
    "collection_id = 'C1276812830-GES_DISC'\n",
    "ogc_api_coverages_version = '1.0.0'\n",
    "\n",
    "# https://harmony.earthdata.nasa.gov/C1276812830-GES_DISC/ogc-api-coverages/1.0.0/collections/parameter_vars/coverage/rangeset?forceAsync=true&granuleId=G2613562772-GES_DISC&subset=time(%222023-01-01T00%3A00%3A00.000Z%22%3A%222023-01-01T23%3A59%3A59.999Z%22)&format=application%2Fx-netcdf4&variable=TOTEXTTAU&skipPreview=true&label=eed-edsc-prod%2Cedsc-id%3D6103540449\n",
    "api_path = (\n",
    "    f\"/{collection_id}/ogc-api-coverages/{ogc_api_coverages_version}\"\n",
    "    f\"/collections/parameter_vars/coverage/rangeset\"\n",
    ")\n",
    "\n",
    "bounds = (68.08615233,  6.69169395, 97.47399721, 37.15140621)\n",
    "\n",
    "west, south, east, north = bounds\n",
    "\n",
    "# Build query string\n",
    "query_params = [\n",
    "    ('granuleid', granule_id),\n",
    "    ('format', 'application/x-netcdf4'),\n",
    "    ('variable', 'TOTEXTTAU'),\n",
    "    ('subset', f'lon({west}:{east})'),\n",
    "    ('subset', f'lat({south}:{north})'),\n",
    "]\n",
    "query_string = parse.urlencode(query_params)\n",
    "var_url = harmony_root + api_path + '?' + query_string\n",
    "print('Request URL', var_url)\n",
    "\n",
    "# Submit the request\n",
    "var_results = submit_request(var_url)\n"
   ]
  },
  {
   "cell_type": "code",
   "execution_count": 17,
   "metadata": {},
   "outputs": [],
   "source": [
    "# Turn bytes into a file\n",
    "with open(local_dir + 'parameter_vars.nc', 'wb') as f:\n",
    "    f.write(var_results)\n",
    "\n",
    "# Open the NetCDF file\n",
    "nc_file = Dataset(local_dir + 'parameter_vars.nc', 'r')\n"
   ]
  },
  {
   "cell_type": "code",
   "execution_count": 18,
   "metadata": {},
   "outputs": [
    {
     "data": {
      "text/plain": [
       "<class 'netCDF4.Dataset'>\n",
       "root group (NETCDF4 data model, file format HDF5):\n",
       "    History: Original file generated: Wed Jan 11 21:46:19 2023 GMT\n",
       "    Comment: GMAO filename: d5124_m2_jan10.tavg1_2d_aer_Nx.20230101.nc4\n",
       "    Filename: MERRA2_400.tavg1_2d_aer_Nx.20230101.nc4\n",
       "    Conventions: CF-1\n",
       "    Institution: NASA Global Modeling and Assimilation Office\n",
       "    References: http://gmao.gsfc.nasa.gov\n",
       "    Format: NetCDF-4/HDF-5\n",
       "    SpatialCoverage: global\n",
       "    VersionID: 5.12.4\n",
       "    TemporalRange: 1980-01-01 -> 2016-12-31\n",
       "    identifier_product_doi_authority: http://dx.doi.org/\n",
       "    ShortName: M2T1NXAER\n",
       "    GranuleID: MERRA2_400.tavg1_2d_aer_Nx.20230101.nc4\n",
       "    ProductionDateTime: Original file generated: Wed Jan 11 21:46:19 2023 GMT\n",
       "    LongName: MERRA2 tavg1_2d_aer_Nx: 2d,1-Hourly,Time-averaged,Single-Level,Assimilation,Aerosol Diagnostics\n",
       "    Title: MERRA2 tavg1_2d_aer_Nx: 2d,1-Hourly,Time-averaged,Single-Level,Assimilation,Aerosol Diagnostics\n",
       "    SouthernmostLatitude: -90.0\n",
       "    NorthernmostLatitude: 90.0\n",
       "    WesternmostLongitude: -180.0\n",
       "    EasternmostLongitude: 179.375\n",
       "    LatitudeResolution: 0.5\n",
       "    LongitudeResolution: 0.625\n",
       "    DataResolution: 0.5 x 0.625\n",
       "    Source: CVS tag: GEOSadas-5_12_4_p36_SLES12_M2-OPS\n",
       "    Contact: http://gmao.gsfc.nasa.gov\n",
       "    identifier_product_doi: 10.5067/KLICLTZ8EM9D\n",
       "    RangeBeginningDate: 2023-01-01\n",
       "    RangeBeginningTime: 00:00:00.000000\n",
       "    RangeEndingDate: 2023-01-01\n",
       "    RangeEndingTime: 23:59:59.000000\n",
       "    build_dmrpp_metadata.build_dmrpp: 3.21.0-272\n",
       "    build_dmrpp_metadata.bes: 3.21.0-272\n",
       "    build_dmrpp_metadata.libdap: libdap-3.21.0-70\n",
       "    build_dmrpp_metadata.configuration: \n",
       "# TheBESKeys::get_as_config()\n",
       "AllowedHosts=^https?:\\/\\/\n",
       "BES.Catalog.catalog.FollowSymLinks=Yes\n",
       "BES.Catalog.catalog.RootDirectory=/tmp/tmpfcrljn0o/\n",
       "BES.Catalog.catalog.TypeMatch=dmrpp:.*\\.(dmrpp)$;\n",
       "BES.Catalog.catalog.TypeMatch+=h5:.*(\\.bz2|\\.gz|\\.Z)?$;\n",
       "BES.Data.RootDirectory=/dev/null\n",
       "BES.LogName=./bes.log\n",
       "BES.UncompressCache.dir=/tmp/hyrax_ux\n",
       "BES.UncompressCache.prefix=ux_\n",
       "BES.UncompressCache.size=500\n",
       "BES.module.cmd=/usr/lib64/bes/libdap_xml_module.so\n",
       "BES.module.dap=/usr/lib64/bes/libdap_module.so\n",
       "BES.module.dmrpp=/usr/lib64/bes/libdmrpp_module.so\n",
       "BES.module.fonc=/usr/lib64/bes/libfonc_module.so\n",
       "BES.module.h5=/usr/lib64/bes/libhdf5_module.so\n",
       "BES.module.nc=/usr/lib64/bes/libnc_module.so\n",
       "BES.modules=dap,cmd,h5,dmrpp,nc,fonc\n",
       "FONc.ClassicModel=false\n",
       "FONc.NoGlobalAttrs=true\n",
       "H5.EnableCF=false\n",
       "H5.EnableCheckNameClashing=true\n",
       "\n",
       "    build_dmrpp_metadata.invocation: build_dmrpp -c /tmp/bes_conf_D1fv -f /tmp/tmpfcrljn0o//MERRA2_400.tavg1_2d_aer_Nx.20230101.nc4 -r /tmp/dmr__pt55hH -u OPeNDAP_DMRpp_DATA_ACCESS_URL -M\n",
       "    history: 2025-06-13 10:21:05 GMT hyrax-1.17.1-166 https://opendap.earthdata.nasa.gov/collections/C1276812830-GES_DISC/granules/M2T1NXAER.5.12.4%3AMERRA2_400.tavg1_2d_aer_Nx.20230101.nc4.dap.nc4?A-api-request-uuid=d7900023-2bbb-439e-834c-bd5ed2662ebf,dap4.ce=%2FTOTEXTTAU%5B%5D%5B193%3A254%5D%5B397%3A444%5D%3B%2Flon%5B397%3A444%5D%3B%2Ftime%3B%2Flat%5B193%3A254%5D\n",
       "\n",
       "    history_json: [{\"$schema\":\"https:\\/\\/harmony.earthdata.nasa.gov\\/schemas\\/history\\/0.1.0\\/history-0.1.0.json\",\"date_time\":\"2025-06-13T10:21:05.146+0000\",\"program\":\"hyrax\",\"version\":\"1.17.1-166\",\"parameters\":[{\"request_url\":\"https:\\/\\/opendap.earthdata.nasa.gov\\/collections\\/C1276812830-GES_DISC\\/granules\\/M2T1NXAER.5.12.4%3AMERRA2_400.tavg1_2d_aer_Nx.20230101.nc4.dap.nc4?A-api-request-uuid=d7900023-2bbb-439e-834c-bd5ed2662ebf,dap4.ce=%2FTOTEXTTAU%5B%5D%5B193%3A254%5D%5B397%3A444%5D%3B%2Flon%5B397%3A444%5D%3B%2Ftime%3B%2Flat%5B193%3A254%5D\"},{\"decoded_constraint\":\"A-api-request-uuid=d7900023-2bbb-439e-834c-bd5ed2662ebf,dap4.ce=\\/TOTEXTTAU[][193:254][397:444];\\/lon[397:444];\\/time;\\/lat[193:254]\"}]}]\n",
       "    dimensions(sizes): lon(48), time(24), lat(62)\n",
       "    variables(dimensions): float64 lon(lon), int32 time(time), float64 lat(lat), float32 TOTEXTTAU(time, lat, lon)\n",
       "    groups: "
      ]
     },
     "execution_count": 18,
     "metadata": {},
     "output_type": "execute_result"
    }
   ],
   "source": [
    "nc_file"
   ]
  },
  {
   "cell_type": "code",
   "execution_count": 20,
   "metadata": {},
   "outputs": [
    {
     "data": {
      "image/png": "[encoded data removed]",
      "text/plain": [
       "<Figure size 1000x600 with 2 Axes>"
      ]
     },
     "metadata": {},
     "output_type": "display_data"
    }
   ],
   "source": [
    "import geopandas as gpd\n",
    "import zipfile\n",
    "\n",
    "# Extract data from NetCDF\n",
    "data = nc_file.variables['TOTEXTTAU'][:]\n",
    "lon = nc_file.variables['lon'][:]\n",
    "lat = nc_file.variables['lat'][:]\n",
    "\n",
    "plt.figure(figsize=(10, 6))\n",
    "mesh = plt.pcolormesh(lon, lat, data[0, :, :], shading='auto')\n",
    "plt.colorbar(mesh, label='TOTEXTTAU')\n",
    "plt.xlabel('Longitude')\n",
    "plt.ylabel('Latitude')\n",
    "plt.title('TOTEXTTAU Variable from NetCDF File')\n",
    "\n",
    "# Set x and y limits on plot\n",
    "plt.xlim(west, east)\n",
    "plt.ylim(south, north)\n",
    "\n",
    "# Ensure shapefile is extracted\n",
    "shapefile_dir = local_dir + \"ne_110m_admin_0_countries/\"\n",
    "india_shapefile = shapefile_dir + \"ne_110m_admin_0_countries.shp\"\n",
    "if not os.path.exists(india_shapefile):\n",
    "    with zipfile.ZipFile(zip_path, \"r\") as zip_ref:\n",
    "        zip_ref.extractall(shapefile_dir)\n",
    "\n",
    "# Read and plot India boundary overlay\n",
    "india = gpd.read_file(india_shapefile)\n",
    "india.boundary.plot(ax=plt.gca(), edgecolor='black', linewidth=2)\n",
    "\n",
    "plt.show()\n"
   ]
  },
  {
   "cell_type": "code",
   "execution_count": 34,
   "metadata": {},
   "outputs": [
    {
     "data": {
      "text/plain": [
       "'2023-01-01'"
      ]
     },
     "execution_count": 34,
     "metadata": {},
     "output_type": "execute_result"
    }
   ],
   "source": [
    "import xarray\n",
    "\n",
    "\n",
    "xarray.open_dataset(local_dir + 'parameter_vars.nc').attrs.get(\"RangeBeginningDate\")"
   ]
  },
  {
   "cell_type": "code",
   "execution_count": 25,
   "metadata": {},
   "outputs": [
    {
     "name": "stdout",
     "output_type": "stream",
     "text": [
      "Request URL https://harmony.earthdata.nasa.gov/C1276812830-GES_DISC/ogc-api-coverages/1.0.0/collections/parameter_vars/coverage/rangeset?format=application%2Fx-netcdf4&variable=TOTEXTTAU&subset=lon%2868.08615233%3A97.47399721%29&subset=lat%286.69169395%3A37.15140621%29&subset=time%28%222023-01-01T00%3A00%3A00Z%22%3A%222023-01-31T23%3A59%3A59Z%22%29&maxResults=31\n"
     ]
    }
   ],
   "source": [
    "from urllib import parse\n",
    "granule_id = 'G2613562772-GES_DISC'\n",
    "collection_id = 'C1276812830-GES_DISC'\n",
    "ogc_api_coverages_version = '1.0.0'\n",
    "\n",
    "# https://harmony.earthdata.nasa.gov/C1276812830-GES_DISC/ogc-api-coverages/1.0.0/collections/parameter_vars/coverage/rangeset?forceAsync=true&granuleId=G2613562772-GES_DISC&subset=time(%222023-01-01T00%3A00%3A00.000Z%22%3A%222023-01-01T23%3A59%3A59.999Z%22)&format=application%2Fx-netcdf4&variable=TOTEXTTAU&skipPreview=true&label=eed-edsc-prod%2Cedsc-id%3D6103540449\n",
    "api_path = (\n",
    "    f\"/{collection_id}/ogc-api-coverages/{ogc_api_coverages_version}\"\n",
    "    f\"/collections/parameter_vars/coverage/rangeset\"\n",
    ")\n",
    "\n",
    "bounds = (68.08615233,  6.69169395, 97.47399721, 37.15140621)\n",
    "\n",
    "west, south, east, north = bounds\n",
    "\n",
    "# Build query string\n",
    "query_params = [\n",
    "    ('format', 'application/x-netcdf4'),\n",
    "    ('variable', 'TOTEXTTAU'),\n",
    "    ('subset', f'lon({west}:{east})'),\n",
    "    ('subset', f'lat({south}:{north})'),\n",
    "    ('subset', 'time(\"2023-01-01T00:00:00Z\":\"2023-01-31T23:59:59Z\")'),\n",
    "    ('maxResults', 31),\n",
    "]\n",
    "query_string = parse.urlencode(query_params)\n",
    "var_url = harmony_root + api_path + '?' + query_string\n",
    "print('Request URL', var_url)\n",
    "\n",
    "# Submit the request\n",
    "async_json = get_json_response(var_url)"
   ]
  },
  {
   "cell_type": "code",
   "execution_count": 26,
   "metadata": {},
   "outputs": [
    {
     "name": "stdout",
     "output_type": "stream",
     "text": [
      "Job URL https://harmony.earthdata.nasa.gov/jobs/cebb3ca4-2190-4e3a-b69f-b04318b6c567\n"
     ]
    }
   ],
   "source": [
    "\n",
    "\n",
    "jobConfig = {\n",
    "    'jobID': async_json['jobID']\n",
    "}\n",
    "\n",
    "job_url = harmony_root+'/jobs/{jobID}'.format(**jobConfig)\n",
    "print('Job URL', job_url)\n",
    "\n"
   ]
  },
  {
   "cell_type": "code",
   "execution_count": 27,
   "metadata": {},
   "outputs": [
    {
     "name": "stdout",
     "output_type": "stream",
     "text": [
      "Job response:\n",
      "\n",
      "{'createdAt': '2025-06-13T10:27:50.877Z',\n",
      " 'dataExpiration': '2025-07-13T10:27:50.877Z',\n",
      " 'jobID': 'cebb3ca4-2190-4e3a-b69f-b04318b6c567',\n",
      " 'labels': [],\n",
      " 'links': [{'href': 'https://harmony.earthdata.nasa.gov/jobs/cebb3ca4-2190-4e3a-b69f-b04318b6c567/cancel',\n",
      "            'rel': 'canceler',\n",
      "            'title': 'Cancels the job.',\n",
      "            'type': 'application/json'},\n",
      "           {'href': 'https://harmony.earthdata.nasa.gov/jobs/cebb3ca4-2190-4e3a-b69f-b04318b6c567/pause',\n",
      "            'rel': 'pauser',\n",
      "            'title': 'Pauses the job.',\n",
      "            'type': 'application/json'},\n",
      "           {'bbox': [-180, -90, 180, 90],\n",
      "            'href': 'https://harmony.earthdata.nasa.gov/service-results/harmony-prod-staging/public/cebb3ca4-2190-4e3a-b69f-b04318b6c567/101879546/M2T1NXAER.5.12.4_MERRA2_400.tavg1_2d_aer_Nx.20230101_TOTEXTTAU_subsetted.nc4',\n",
      "            'rel': 'data',\n",
      "            'temporal': {'end': '2023-01-01T23:59:59.000Z',\n",
      "                         'start': '2023-01-01T00:00:00.000Z'},\n",
      "            'title': 'M2T1NXAER.5.12.4_MERRA2_400.tavg1_2d_aer_Nx.20230101_TOTEXTTAU_subsetted.nc4',\n",
      "            'type': 'application/x-netcdf4'},\n",
      "           {'bbox': [-180, -90, 180, 90],\n",
      "            'href': 'https://harmony.earthdata.nasa.gov/service-results/harmony-prod-staging/public/cebb3ca4-2190-4e3a-b69f-b04318b6c567/101879547/M2T1NXAER.5.12.4_MERRA2_400.tavg1_2d_aer_Nx.20230102_TOTEXTTAU_subsetted.nc4',\n",
      "            'rel': 'data',\n",
      "            'temporal': {'end': '2023-01-02T23:59:59.000Z',\n",
      "                         'start': '2023-01-02T00:00:00.000Z'},\n",
      "            'title': 'M2T1NXAER.5.12.4_MERRA2_400.tavg1_2d_aer_Nx.20230102_TOTEXTTAU_subsetted.nc4',\n",
      "            'type': 'application/x-netcdf4'},\n",
      "           {'href': 'https://harmony.earthdata.nasa.gov/jobs/cebb3ca4-2190-4e3a-b69f-b04318b6c567?page=1&limit=2000',\n",
      "            'rel': 'self',\n",
      "            'title': 'The current page',\n",
      "            'type': 'application/json'}],\n",
      " 'message': 'The job is being processed',\n",
      " 'numInputGranules': 31,\n",
      " 'progress': 14,\n",
      " 'request': 'https://harmony.earthdata.nasa.gov/C1276812830-GES_DISC/ogc-api-coverages/1.0.0/collections/parameter_vars/coverage/rangeset?format=application%2Fx-netcdf4&variable=TOTEXTTAU&subset=lon(68.08615233%3A97.47399721)&subset=lat(6.69169395%3A37.15140621)&subset=time(%222023-01-01T00%3A00%3A00Z%22%3A%222023-01-31T23%3A59%3A59Z%22)&maxResults=31',\n",
      " 'status': 'running',\n",
      " 'updatedAt': '2025-06-13T10:28:08.854Z',\n",
      " 'username': 'ticklethepanda'}\n"
     ]
    }
   ],
   "source": [
    "job_json = get_json_response(job_url)\n",
    "\n",
    "print('Job response:')\n",
    "print()\n",
    "pprint.pprint(job_json)"
   ]
  },
  {
   "cell_type": "code",
   "execution_count": 28,
   "metadata": {},
   "outputs": [
    {
     "name": "stdout",
     "output_type": "stream",
     "text": [
      "Job status is running. Progress is  14 %. Trying again.\n",
      "Job status is running. Progress is  70 %. Trying again.\n"
     ]
    }
   ],
   "source": [
    "while job_json['status'] == 'running' and job_json['progress'] < 100:\n",
    "    print('Job status is running. Progress is ', job_json['progress'], '%. Trying again.')\n",
    "    time.sleep(10)\n",
    "    job_json = get_json_response(job_url)\n",
    "    if job_json['status'] == 'running':\n",
    "        continue"
   ]
  },
  {
   "cell_type": "code",
   "execution_count": 30,
   "metadata": {},
   "outputs": [
    {
     "name": "stdout",
     "output_type": "stream",
     "text": [
      "Job progress is 100%. Output links printed below:\n",
      "https://harmony.earthdata.nasa.gov/service-results/harmony-prod-staging/public/cebb3ca4-2190-4e3a-b69f-b04318b6c567/101879546/M2T1NXAER.5.12.4_MERRA2_400.tavg1_2d_aer_Nx.20230101_TOTEXTTAU_subsetted.nc4\n",
      "https://harmony.earthdata.nasa.gov/service-results/harmony-prod-staging/public/cebb3ca4-2190-4e3a-b69f-b04318b6c567/101879547/M2T1NXAER.5.12.4_MERRA2_400.tavg1_2d_aer_Nx.20230102_TOTEXTTAU_subsetted.nc4\n",
      "https://harmony.earthdata.nasa.gov/service-results/harmony-prod-staging/public/cebb3ca4-2190-4e3a-b69f-b04318b6c567/101879549/M2T1NXAER.5.12.4_MERRA2_400.tavg1_2d_aer_Nx.20230104_TOTEXTTAU_subsetted.nc4\n",
      "https://harmony.earthdata.nasa.gov/service-results/harmony-prod-staging/public/cebb3ca4-2190-4e3a-b69f-b04318b6c567/101879550/M2T1NXAER.5.12.4_MERRA2_400.tavg1_2d_aer_Nx.20230105_TOTEXTTAU_subsetted.nc4\n",
      "https://harmony.earthdata.nasa.gov/service-results/harmony-prod-staging/public/cebb3ca4-2190-4e3a-b69f-b04318b6c567/101879551/M2T1NXAER.5.12.4_MERRA2_400.tavg1_2d_aer_Nx.20230106_TOTEXTTAU_subsetted.nc4\n",
      "https://harmony.earthdata.nasa.gov/service-results/harmony-prod-staging/public/cebb3ca4-2190-4e3a-b69f-b04318b6c567/101879548/M2T1NXAER.5.12.4_MERRA2_400.tavg1_2d_aer_Nx.20230103_TOTEXTTAU_subsetted.nc4\n",
      "https://harmony.earthdata.nasa.gov/service-results/harmony-prod-staging/public/cebb3ca4-2190-4e3a-b69f-b04318b6c567/101879552/M2T1NXAER.5.12.4_MERRA2_400.tavg1_2d_aer_Nx.20230107_TOTEXTTAU_subsetted.nc4\n",
      "https://harmony.earthdata.nasa.gov/service-results/harmony-prod-staging/public/cebb3ca4-2190-4e3a-b69f-b04318b6c567/101879553/M2T1NXAER.5.12.4_MERRA2_400.tavg1_2d_aer_Nx.20230108_TOTEXTTAU_subsetted.nc4\n",
      "https://harmony.earthdata.nasa.gov/service-results/harmony-prod-staging/public/cebb3ca4-2190-4e3a-b69f-b04318b6c567/101879554/M2T1NXAER.5.12.4_MERRA2_400.tavg1_2d_aer_Nx.20230109_TOTEXTTAU_subsetted.nc4\n"
     ]
    },
    {
     "ename": "KeyboardInterrupt",
     "evalue": "",
     "output_type": "error",
     "traceback": [
      "\u001b[31m---------------------------------------------------------------------------\u001b[39m",
      "\u001b[31mKeyboardInterrupt\u001b[39m                         Traceback (most recent call last)",
      "\u001b[36mCell\u001b[39m\u001b[36m \u001b[39m\u001b[32mIn[30]\u001b[39m\u001b[32m, line 9\u001b[39m\n\u001b[32m      7\u001b[39m output_file_name = \u001b[38;5;28mstr\u001b[39m(link_dict[\u001b[33m'\u001b[39m\u001b[33mtitle\u001b[39m\u001b[33m'\u001b[39m]+\u001b[33m'\u001b[39m\u001b[33m.tif\u001b[39m\u001b[33m'\u001b[39m)\n\u001b[32m      8\u001b[39m proj_filepath = \u001b[38;5;28mstr\u001b[39m(local_dir+output_file_name)\n\u001b[32m----> \u001b[39m\u001b[32m9\u001b[39m proj_results = \u001b[43msubmit_request\u001b[49m\u001b[43m(\u001b[49m\u001b[43mlink_dict\u001b[49m\u001b[43m[\u001b[49m\u001b[33;43m'\u001b[39;49m\u001b[33;43mhref\u001b[39;49m\u001b[33;43m'\u001b[39;49m\u001b[43m]\u001b[49m\u001b[43m)\u001b[49m\n\u001b[32m     10\u001b[39m file_ = \u001b[38;5;28mopen\u001b[39m(proj_filepath, \u001b[33m'\u001b[39m\u001b[33mwb\u001b[39m\u001b[33m'\u001b[39m)\n\u001b[32m     11\u001b[39m file_.write(proj_results)\n",
      "\u001b[36mCell\u001b[39m\u001b[36m \u001b[39m\u001b[32mIn[6]\u001b[39m\u001b[32m, line 8\u001b[39m, in \u001b[36msubmit_request\u001b[39m\u001b[34m(url)\u001b[39m\n\u001b[32m      5\u001b[39m status_req.add_header(\u001b[33m'\u001b[39m\u001b[33mAuthorization\u001b[39m\u001b[33m'\u001b[39m, \u001b[33mf\u001b[39m\u001b[33m'\u001b[39m\u001b[33mBearer \u001b[39m\u001b[38;5;132;01m{\u001b[39;00mbearer_token\u001b[38;5;132;01m}\u001b[39;00m\u001b[33m'\u001b[39m)\n\u001b[32m      7\u001b[39m \u001b[38;5;66;03m# Open the request and read the response\u001b[39;00m\n\u001b[32m----> \u001b[39m\u001b[32m8\u001b[39m \u001b[38;5;28;01mwith\u001b[39;00m \u001b[43mrequest\u001b[49m\u001b[43m.\u001b[49m\u001b[43murlopen\u001b[49m\u001b[43m(\u001b[49m\u001b[43mstatus_req\u001b[49m\u001b[43m)\u001b[49m \u001b[38;5;28;01mas\u001b[39;00m response:\n\u001b[32m      9\u001b[39m     \u001b[38;5;28;01mreturn\u001b[39;00m response.read()\n",
      "\u001b[36mFile \u001b[39m\u001b[32m/usr/lib/python3.11/urllib/request.py:216\u001b[39m, in \u001b[36murlopen\u001b[39m\u001b[34m(url, data, timeout, cafile, capath, cadefault, context)\u001b[39m\n\u001b[32m    214\u001b[39m \u001b[38;5;28;01melse\u001b[39;00m:\n\u001b[32m    215\u001b[39m     opener = _opener\n\u001b[32m--> \u001b[39m\u001b[32m216\u001b[39m \u001b[38;5;28;01mreturn\u001b[39;00m \u001b[43mopener\u001b[49m\u001b[43m.\u001b[49m\u001b[43mopen\u001b[49m\u001b[43m(\u001b[49m\u001b[43murl\u001b[49m\u001b[43m,\u001b[49m\u001b[43m \u001b[49m\u001b[43mdata\u001b[49m\u001b[43m,\u001b[49m\u001b[43m \u001b[49m\u001b[43mtimeout\u001b[49m\u001b[43m)\u001b[49m\n",
      "\u001b[36mFile \u001b[39m\u001b[32m/usr/lib/python3.11/urllib/request.py:519\u001b[39m, in \u001b[36mOpenerDirector.open\u001b[39m\u001b[34m(self, fullurl, data, timeout)\u001b[39m\n\u001b[32m    516\u001b[39m     req = meth(req)\n\u001b[32m    518\u001b[39m sys.audit(\u001b[33m'\u001b[39m\u001b[33murllib.Request\u001b[39m\u001b[33m'\u001b[39m, req.full_url, req.data, req.headers, req.get_method())\n\u001b[32m--> \u001b[39m\u001b[32m519\u001b[39m response = \u001b[38;5;28;43mself\u001b[39;49m\u001b[43m.\u001b[49m\u001b[43m_open\u001b[49m\u001b[43m(\u001b[49m\u001b[43mreq\u001b[49m\u001b[43m,\u001b[49m\u001b[43m \u001b[49m\u001b[43mdata\u001b[49m\u001b[43m)\u001b[49m\n\u001b[32m    521\u001b[39m \u001b[38;5;66;03m# post-process response\u001b[39;00m\n\u001b[32m    522\u001b[39m meth_name = protocol+\u001b[33m\"\u001b[39m\u001b[33m_response\u001b[39m\u001b[33m\"\u001b[39m\n",
      "\u001b[36mFile \u001b[39m\u001b[32m/usr/lib/python3.11/urllib/request.py:536\u001b[39m, in \u001b[36mOpenerDirector._open\u001b[39m\u001b[34m(self, req, data)\u001b[39m\n\u001b[32m    533\u001b[39m     \u001b[38;5;28;01mreturn\u001b[39;00m result\n\u001b[32m    535\u001b[39m protocol = req.type\n\u001b[32m--> \u001b[39m\u001b[32m536\u001b[39m result = \u001b[38;5;28;43mself\u001b[39;49m\u001b[43m.\u001b[49m\u001b[43m_call_chain\u001b[49m\u001b[43m(\u001b[49m\u001b[38;5;28;43mself\u001b[39;49m\u001b[43m.\u001b[49m\u001b[43mhandle_open\u001b[49m\u001b[43m,\u001b[49m\u001b[43m \u001b[49m\u001b[43mprotocol\u001b[49m\u001b[43m,\u001b[49m\u001b[43m \u001b[49m\u001b[43mprotocol\u001b[49m\u001b[43m \u001b[49m\u001b[43m+\u001b[49m\n\u001b[32m    537\u001b[39m \u001b[43m                          \u001b[49m\u001b[33;43m'\u001b[39;49m\u001b[33;43m_open\u001b[39;49m\u001b[33;43m'\u001b[39;49m\u001b[43m,\u001b[49m\u001b[43m \u001b[49m\u001b[43mreq\u001b[49m\u001b[43m)\u001b[49m\n\u001b[32m    538\u001b[39m \u001b[38;5;28;01mif\u001b[39;00m result:\n\u001b[32m    539\u001b[39m     \u001b[38;5;28;01mreturn\u001b[39;00m result\n",
      "\u001b[36mFile \u001b[39m\u001b[32m/usr/lib/python3.11/urllib/request.py:496\u001b[39m, in \u001b[36mOpenerDirector._call_chain\u001b[39m\u001b[34m(self, chain, kind, meth_name, *args)\u001b[39m\n\u001b[32m    494\u001b[39m \u001b[38;5;28;01mfor\u001b[39;00m handler \u001b[38;5;129;01min\u001b[39;00m handlers:\n\u001b[32m    495\u001b[39m     func = \u001b[38;5;28mgetattr\u001b[39m(handler, meth_name)\n\u001b[32m--> \u001b[39m\u001b[32m496\u001b[39m     result = \u001b[43mfunc\u001b[49m\u001b[43m(\u001b[49m\u001b[43m*\u001b[49m\u001b[43margs\u001b[49m\u001b[43m)\u001b[49m\n\u001b[32m    497\u001b[39m     \u001b[38;5;28;01mif\u001b[39;00m result \u001b[38;5;129;01mis\u001b[39;00m \u001b[38;5;129;01mnot\u001b[39;00m \u001b[38;5;28;01mNone\u001b[39;00m:\n\u001b[32m    498\u001b[39m         \u001b[38;5;28;01mreturn\u001b[39;00m result\n",
      "\u001b[36mFile \u001b[39m\u001b[32m/usr/lib/python3.11/urllib/request.py:1391\u001b[39m, in \u001b[36mHTTPSHandler.https_open\u001b[39m\u001b[34m(self, req)\u001b[39m\n\u001b[32m   1390\u001b[39m \u001b[38;5;28;01mdef\u001b[39;00m\u001b[38;5;250m \u001b[39m\u001b[34mhttps_open\u001b[39m(\u001b[38;5;28mself\u001b[39m, req):\n\u001b[32m-> \u001b[39m\u001b[32m1391\u001b[39m     \u001b[38;5;28;01mreturn\u001b[39;00m \u001b[38;5;28;43mself\u001b[39;49m\u001b[43m.\u001b[49m\u001b[43mdo_open\u001b[49m\u001b[43m(\u001b[49m\u001b[43mhttp\u001b[49m\u001b[43m.\u001b[49m\u001b[43mclient\u001b[49m\u001b[43m.\u001b[49m\u001b[43mHTTPSConnection\u001b[49m\u001b[43m,\u001b[49m\u001b[43m \u001b[49m\u001b[43mreq\u001b[49m\u001b[43m,\u001b[49m\n\u001b[32m   1392\u001b[39m \u001b[43m        \u001b[49m\u001b[43mcontext\u001b[49m\u001b[43m=\u001b[49m\u001b[38;5;28;43mself\u001b[39;49m\u001b[43m.\u001b[49m\u001b[43m_context\u001b[49m\u001b[43m,\u001b[49m\u001b[43m \u001b[49m\u001b[43mcheck_hostname\u001b[49m\u001b[43m=\u001b[49m\u001b[38;5;28;43mself\u001b[39;49m\u001b[43m.\u001b[49m\u001b[43m_check_hostname\u001b[49m\u001b[43m)\u001b[49m\n",
      "\u001b[36mFile \u001b[39m\u001b[32m/usr/lib/python3.11/urllib/request.py:1352\u001b[39m, in \u001b[36mAbstractHTTPHandler.do_open\u001b[39m\u001b[34m(self, http_class, req, **http_conn_args)\u001b[39m\n\u001b[32m   1350\u001b[39m     \u001b[38;5;28;01mexcept\u001b[39;00m \u001b[38;5;167;01mOSError\u001b[39;00m \u001b[38;5;28;01mas\u001b[39;00m err: \u001b[38;5;66;03m# timeout error\u001b[39;00m\n\u001b[32m   1351\u001b[39m         \u001b[38;5;28;01mraise\u001b[39;00m URLError(err)\n\u001b[32m-> \u001b[39m\u001b[32m1352\u001b[39m     r = \u001b[43mh\u001b[49m\u001b[43m.\u001b[49m\u001b[43mgetresponse\u001b[49m\u001b[43m(\u001b[49m\u001b[43m)\u001b[49m\n\u001b[32m   1353\u001b[39m \u001b[38;5;28;01mexcept\u001b[39;00m:\n\u001b[32m   1354\u001b[39m     h.close()\n",
      "\u001b[36mFile \u001b[39m\u001b[32m/usr/lib/python3.11/http/client.py:1374\u001b[39m, in \u001b[36mHTTPConnection.getresponse\u001b[39m\u001b[34m(self)\u001b[39m\n\u001b[32m   1372\u001b[39m \u001b[38;5;28;01mtry\u001b[39;00m:\n\u001b[32m   1373\u001b[39m     \u001b[38;5;28;01mtry\u001b[39;00m:\n\u001b[32m-> \u001b[39m\u001b[32m1374\u001b[39m         \u001b[43mresponse\u001b[49m\u001b[43m.\u001b[49m\u001b[43mbegin\u001b[49m\u001b[43m(\u001b[49m\u001b[43m)\u001b[49m\n\u001b[32m   1375\u001b[39m     \u001b[38;5;28;01mexcept\u001b[39;00m \u001b[38;5;167;01mConnectionError\u001b[39;00m:\n\u001b[32m   1376\u001b[39m         \u001b[38;5;28mself\u001b[39m.close()\n",
      "\u001b[36mFile \u001b[39m\u001b[32m/usr/lib/python3.11/http/client.py:318\u001b[39m, in \u001b[36mHTTPResponse.begin\u001b[39m\u001b[34m(self)\u001b[39m\n\u001b[32m    316\u001b[39m \u001b[38;5;66;03m# read until we get a non-100 response\u001b[39;00m\n\u001b[32m    317\u001b[39m \u001b[38;5;28;01mwhile\u001b[39;00m \u001b[38;5;28;01mTrue\u001b[39;00m:\n\u001b[32m--> \u001b[39m\u001b[32m318\u001b[39m     version, status, reason = \u001b[38;5;28;43mself\u001b[39;49m\u001b[43m.\u001b[49m\u001b[43m_read_status\u001b[49m\u001b[43m(\u001b[49m\u001b[43m)\u001b[49m\n\u001b[32m    319\u001b[39m     \u001b[38;5;28;01mif\u001b[39;00m status != CONTINUE:\n\u001b[32m    320\u001b[39m         \u001b[38;5;28;01mbreak\u001b[39;00m\n",
      "\u001b[36mFile \u001b[39m\u001b[32m/usr/lib/python3.11/http/client.py:279\u001b[39m, in \u001b[36mHTTPResponse._read_status\u001b[39m\u001b[34m(self)\u001b[39m\n\u001b[32m    278\u001b[39m \u001b[38;5;28;01mdef\u001b[39;00m\u001b[38;5;250m \u001b[39m\u001b[34m_read_status\u001b[39m(\u001b[38;5;28mself\u001b[39m):\n\u001b[32m--> \u001b[39m\u001b[32m279\u001b[39m     line = \u001b[38;5;28mstr\u001b[39m(\u001b[38;5;28mself\u001b[39m.fp.readline(_MAXLINE + \u001b[32m1\u001b[39m), \u001b[33m\"\u001b[39m\u001b[33miso-8859-1\u001b[39m\u001b[33m\"\u001b[39m)\n\u001b[32m    280\u001b[39m     \u001b[38;5;28;01mif\u001b[39;00m \u001b[38;5;28mlen\u001b[39m(line) > _MAXLINE:\n\u001b[32m    281\u001b[39m         \u001b[38;5;28;01mraise\u001b[39;00m LineTooLong(\u001b[33m\"\u001b[39m\u001b[33mstatus line\u001b[39m\u001b[33m\"\u001b[39m)\n",
      "\u001b[36mFile \u001b[39m\u001b[32m/usr/lib/python3.11/socket.py:706\u001b[39m, in \u001b[36mSocketIO.readinto\u001b[39m\u001b[34m(self, b)\u001b[39m\n\u001b[32m    704\u001b[39m \u001b[38;5;28;01mwhile\u001b[39;00m \u001b[38;5;28;01mTrue\u001b[39;00m:\n\u001b[32m    705\u001b[39m     \u001b[38;5;28;01mtry\u001b[39;00m:\n\u001b[32m--> \u001b[39m\u001b[32m706\u001b[39m         \u001b[38;5;28;01mreturn\u001b[39;00m \u001b[38;5;28;43mself\u001b[39;49m\u001b[43m.\u001b[49m\u001b[43m_sock\u001b[49m\u001b[43m.\u001b[49m\u001b[43mrecv_into\u001b[49m\u001b[43m(\u001b[49m\u001b[43mb\u001b[49m\u001b[43m)\u001b[49m\n\u001b[32m    707\u001b[39m     \u001b[38;5;28;01mexcept\u001b[39;00m timeout:\n\u001b[32m    708\u001b[39m         \u001b[38;5;28mself\u001b[39m._timeout_occurred = \u001b[38;5;28;01mTrue\u001b[39;00m\n",
      "\u001b[36mFile \u001b[39m\u001b[32m/usr/lib/python3.11/ssl.py:1311\u001b[39m, in \u001b[36mSSLSocket.recv_into\u001b[39m\u001b[34m(self, buffer, nbytes, flags)\u001b[39m\n\u001b[32m   1307\u001b[39m     \u001b[38;5;28;01mif\u001b[39;00m flags != \u001b[32m0\u001b[39m:\n\u001b[32m   1308\u001b[39m         \u001b[38;5;28;01mraise\u001b[39;00m \u001b[38;5;167;01mValueError\u001b[39;00m(\n\u001b[32m   1309\u001b[39m           \u001b[33m\"\u001b[39m\u001b[33mnon-zero flags not allowed in calls to recv_into() on \u001b[39m\u001b[38;5;132;01m%s\u001b[39;00m\u001b[33m\"\u001b[39m %\n\u001b[32m   1310\u001b[39m           \u001b[38;5;28mself\u001b[39m.\u001b[34m__class__\u001b[39m)\n\u001b[32m-> \u001b[39m\u001b[32m1311\u001b[39m     \u001b[38;5;28;01mreturn\u001b[39;00m \u001b[38;5;28;43mself\u001b[39;49m\u001b[43m.\u001b[49m\u001b[43mread\u001b[49m\u001b[43m(\u001b[49m\u001b[43mnbytes\u001b[49m\u001b[43m,\u001b[49m\u001b[43m \u001b[49m\u001b[43mbuffer\u001b[49m\u001b[43m)\u001b[49m\n\u001b[32m   1312\u001b[39m \u001b[38;5;28;01melse\u001b[39;00m:\n\u001b[32m   1313\u001b[39m     \u001b[38;5;28;01mreturn\u001b[39;00m \u001b[38;5;28msuper\u001b[39m().recv_into(buffer, nbytes, flags)\n",
      "\u001b[36mFile \u001b[39m\u001b[32m/usr/lib/python3.11/ssl.py:1167\u001b[39m, in \u001b[36mSSLSocket.read\u001b[39m\u001b[34m(self, len, buffer)\u001b[39m\n\u001b[32m   1165\u001b[39m \u001b[38;5;28;01mtry\u001b[39;00m:\n\u001b[32m   1166\u001b[39m     \u001b[38;5;28;01mif\u001b[39;00m buffer \u001b[38;5;129;01mis\u001b[39;00m \u001b[38;5;129;01mnot\u001b[39;00m \u001b[38;5;28;01mNone\u001b[39;00m:\n\u001b[32m-> \u001b[39m\u001b[32m1167\u001b[39m         \u001b[38;5;28;01mreturn\u001b[39;00m \u001b[38;5;28;43mself\u001b[39;49m\u001b[43m.\u001b[49m\u001b[43m_sslobj\u001b[49m\u001b[43m.\u001b[49m\u001b[43mread\u001b[49m\u001b[43m(\u001b[49m\u001b[38;5;28;43mlen\u001b[39;49m\u001b[43m,\u001b[49m\u001b[43m \u001b[49m\u001b[43mbuffer\u001b[49m\u001b[43m)\u001b[49m\n\u001b[32m   1168\u001b[39m     \u001b[38;5;28;01melse\u001b[39;00m:\n\u001b[32m   1169\u001b[39m         \u001b[38;5;28;01mreturn\u001b[39;00m \u001b[38;5;28mself\u001b[39m._sslobj.read(\u001b[38;5;28mlen\u001b[39m)\n",
      "\u001b[31mKeyboardInterrupt\u001b[39m: "
     ]
    }
   ],
   "source": [
    "if job_json['status'] == 'successful' and job_json['progress'] == 100:\n",
    "    print('Job progress is 100%. Output links printed below:')\n",
    "    links = [link for link in job_json['links'] if link.get('rel', 'data') == 'data'] #list of data links from response\n",
    "    for i in range(len(links)):\n",
    "        link_dict = links[i]\n",
    "        print(link_dict['href'])\n",
    "        output_file_name = str(link_dict['title']+'.tif')\n",
    "        proj_filepath = str(local_dir+output_file_name)\n",
    "        proj_results = submit_request(link_dict['href'])\n",
    "        file_ = open(proj_filepath, 'wb')\n",
    "        file_.write(proj_results)\n",
    "        file_.close()"
   ]
  }
 ],
 "metadata": {
  "kernelspec": {
   "display_name": ".venv",
   "language": "python",
   "name": "python3"
  },
  "language_info": {
   "codemirror_mode": {
    "name": "ipython",
    "version": 3
   },
   "file_extension": ".py",
   "mimetype": "text/x-python",
   "name": "python",
   "nbconvert_exporter": "python",
   "pygments_lexer": "ipython3",
   "version": "3.11.2"
  }
 },
 "nbformat": 4,
 "nbformat_minor": 4
}
