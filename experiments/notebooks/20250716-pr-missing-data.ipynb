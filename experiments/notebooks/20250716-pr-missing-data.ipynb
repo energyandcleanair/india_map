{
 "cells": [
  {
   "cell_type": "code",
   "execution_count": 28,
   "id": "6af80d23",
   "metadata": {},
   "outputs": [],
   "source": [
    "import polars as pl\n",
    "import tempfile\n",
    "import zipfile\n",
    "from pathlib import Path\n",
    "import geopandas as gpd"
   ]
  },
  {
   "cell_type": "code",
   "execution_count": 29,
   "id": "063f0385",
   "metadata": {},
   "outputs": [],
   "source": [
    "actual = pl.read_parquet(\n",
    "    \"gs://crea-pm25ml-examples/combined__omi_full_nn.parquet\"\n",
    ")"
   ]
  },
  {
   "cell_type": "code",
   "execution_count": 30,
   "id": "f98131e8",
   "metadata": {},
   "outputs": [
    {
     "ename": "FileNotFoundError",
     "evalue": "[Errno 2] No such file or directory: '../../grid_india_10km_shapefiles.zip'",
     "output_type": "error",
     "traceback": [
      "\u001b[31m---------------------------------------------------------------------------\u001b[39m",
      "\u001b[31mFileNotFoundError\u001b[39m                         Traceback (most recent call last)",
      "\u001b[36mCell\u001b[39m\u001b[36m \u001b[39m\u001b[32mIn[30]\u001b[39m\u001b[32m, line 3\u001b[39m\n\u001b[32m      1\u001b[39m \u001b[38;5;28;01mwith\u001b[39;00m tempfile.TemporaryDirectory() \u001b[38;5;28;01mas\u001b[39;00m tmpdir:\n\u001b[32m      2\u001b[39m     zip_path = Path(\u001b[33m\"\u001b[39m\u001b[33m../../grid_india_10km_shapefiles.zip\u001b[39m\u001b[33m\"\u001b[39m)\n\u001b[32m----> \u001b[39m\u001b[32m3\u001b[39m     \u001b[38;5;28;01mwith\u001b[39;00m \u001b[43mzipfile\u001b[49m\u001b[43m.\u001b[49m\u001b[43mZipFile\u001b[49m\u001b[43m(\u001b[49m\u001b[43mzip_path\u001b[49m\u001b[43m,\u001b[49m\u001b[43m \u001b[49m\u001b[33;43m'\u001b[39;49m\u001b[33;43mr\u001b[39;49m\u001b[33;43m'\u001b[39;49m\u001b[43m)\u001b[49m \u001b[38;5;28;01mas\u001b[39;00m zip_ref:\n\u001b[32m      4\u001b[39m         zip_ref.extractall(tmpdir)\n\u001b[32m      5\u001b[39m         grid_path = Path(tmpdir, \u001b[33m\"\u001b[39m\u001b[33mgrid_india_10km\u001b[39m\u001b[33m\"\u001b[39m, \u001b[33m\"\u001b[39m\u001b[33mgrid_india_10km.shp\u001b[39m\u001b[33m\"\u001b[39m)\n",
      "\u001b[36mFile \u001b[39m\u001b[32m~/.pyenv/versions/3.12.2/lib/python3.12/zipfile/__init__.py:1323\u001b[39m, in \u001b[36mZipFile.__init__\u001b[39m\u001b[34m(self, file, mode, compression, allowZip64, compresslevel, strict_timestamps, metadata_encoding)\u001b[39m\n\u001b[32m   1321\u001b[39m \u001b[38;5;28;01mwhile\u001b[39;00m \u001b[38;5;28;01mTrue\u001b[39;00m:\n\u001b[32m   1322\u001b[39m     \u001b[38;5;28;01mtry\u001b[39;00m:\n\u001b[32m-> \u001b[39m\u001b[32m1323\u001b[39m         \u001b[38;5;28mself\u001b[39m.fp = \u001b[43mio\u001b[49m\u001b[43m.\u001b[49m\u001b[43mopen\u001b[49m\u001b[43m(\u001b[49m\u001b[43mfile\u001b[49m\u001b[43m,\u001b[49m\u001b[43m \u001b[49m\u001b[43mfilemode\u001b[49m\u001b[43m)\u001b[49m\n\u001b[32m   1324\u001b[39m     \u001b[38;5;28;01mexcept\u001b[39;00m \u001b[38;5;167;01mOSError\u001b[39;00m:\n\u001b[32m   1325\u001b[39m         \u001b[38;5;28;01mif\u001b[39;00m filemode \u001b[38;5;129;01min\u001b[39;00m modeDict:\n",
      "\u001b[31mFileNotFoundError\u001b[39m: [Errno 2] No such file or directory: '../../grid_india_10km_shapefiles.zip'"
     ]
    }
   ],
   "source": [
    "with tempfile.TemporaryDirectory() as tmpdir:\n",
    "    zip_path = Path(\"../../grid_india_10km_shapefiles.zip\")\n",
    "    with zipfile.ZipFile(zip_path, 'r') as zip_ref:\n",
    "        zip_ref.extractall(tmpdir)\n",
    "        grid_path = Path(tmpdir, \"grid_india_10km\", \"grid_india_10km.shp\")\n",
    "        \n",
    "        grid = gpd.read_file(grid_path)\n",
    "        # Convert grid_id to int and then to string\n",
    "        grid[\"grid_id\"] = grid[\"grid_id\"].astype(int).astype(str)\n"
   ]
  },
  {
   "cell_type": "code",
   "execution_count": null,
   "id": "edcc4130",
   "metadata": {},
   "outputs": [],
   "source": [
    "expected_rows = float(actual.shape[0])"
   ]
  },
  {
   "cell_type": "code",
   "execution_count": null,
   "id": "8ac1fbd2",
   "metadata": {},
   "outputs": [],
   "source": [
    "# Count the number of nulls in each column and plot the results where the number of nulls is greater than 0\n",
    "null_counts_df = actual.select(\n",
    "    [pl.col(col).is_null().sum().alias(col) for col in actual.columns]\n",
    ").unpivot(\n",
    "    variable_name=\"column\",\n",
    "    value_name=\"null_count\"\n",
    ").filter(\n",
    "    pl.col(\"null_count\") > 0\n",
    ").with_columns(\n",
    "    missing_percent=pl.col(\"null_count\") / expected_rows * 100.0\n",
    ").sort(\"missing_percent\", descending=True)"
   ]
  },
  {
   "cell_type": "code",
   "execution_count": null,
   "id": "88eb06b4",
   "metadata": {},
   "outputs": [
    {
     "data": {
      "text/html": [
       "\n",
       "<style>\n",
       "  #altair-viz-7bf62ade30c54f99acf07b6cc8fb8e44.vega-embed {\n",
       "    width: 100%;\n",
       "    display: flex;\n",
       "  }\n",
       "\n",
       "  #altair-viz-7bf62ade30c54f99acf07b6cc8fb8e44.vega-embed details,\n",
       "  #altair-viz-7bf62ade30c54f99acf07b6cc8fb8e44.vega-embed details summary {\n",
       "    position: relative;\n",
       "  }\n",
       "</style>\n",
       "<div id=\"altair-viz-7bf62ade30c54f99acf07b6cc8fb8e44\"></div>\n",
       "<script type=\"text/javascript\">\n",
       "  var VEGA_DEBUG = (typeof VEGA_DEBUG == \"undefined\") ? {} : VEGA_DEBUG;\n",
       "  (function(spec, embedOpt){\n",
       "    let outputDiv = document.currentScript.previousElementSibling;\n",
       "    if (outputDiv.id !== \"altair-viz-7bf62ade30c54f99acf07b6cc8fb8e44\") {\n",
       "      outputDiv = document.getElementById(\"altair-viz-7bf62ade30c54f99acf07b6cc8fb8e44\");\n",
       "    }\n",
       "\n",
       "    const paths = {\n",
       "      \"vega\": \"https://cdn.jsdelivr.net/npm/vega@5?noext\",\n",
       "      \"vega-lib\": \"https://cdn.jsdelivr.net/npm/vega-lib?noext\",\n",
       "      \"vega-lite\": \"https://cdn.jsdelivr.net/npm/vega-lite@5.20.1?noext\",\n",
       "      \"vega-embed\": \"https://cdn.jsdelivr.net/npm/vega-embed@6?noext\",\n",
       "    };\n",
       "\n",
       "    function maybeLoadScript(lib, version) {\n",
       "      var key = `${lib.replace(\"-\", \"\")}_version`;\n",
       "      return (VEGA_DEBUG[key] == version) ?\n",
       "        Promise.resolve(paths[lib]) :\n",
       "        new Promise(function(resolve, reject) {\n",
       "          var s = document.createElement('script');\n",
       "          document.getElementsByTagName(\"head\")[0].appendChild(s);\n",
       "          s.async = true;\n",
       "          s.onload = () => {\n",
       "            VEGA_DEBUG[key] = version;\n",
       "            return resolve(paths[lib]);\n",
       "          };\n",
       "          s.onerror = () => reject(`Error loading script: ${paths[lib]}`);\n",
       "          s.src = paths[lib];\n",
       "        });\n",
       "    }\n",
       "\n",
       "    function showError(err) {\n",
       "      outputDiv.innerHTML = `<div class=\"error\" style=\"color:red;\">${err}</div>`;\n",
       "      throw err;\n",
       "    }\n",
       "\n",
       "    function displayChart(vegaEmbed) {\n",
       "      vegaEmbed(outputDiv, spec, embedOpt)\n",
       "        .catch(err => showError(`Javascript Error: ${err.message}<br>This usually means there's a typo in your chart specification. See the javascript console for the full traceback.`));\n",
       "    }\n",
       "\n",
       "    if(typeof define === \"function\" && define.amd) {\n",
       "      requirejs.config({paths});\n",
       "      let deps = [\"vega-embed\"];\n",
       "      require(deps, displayChart, err => showError(`Error loading script: ${err.message}`));\n",
       "    } else {\n",
       "      maybeLoadScript(\"vega\", \"5\")\n",
       "        .then(() => maybeLoadScript(\"vega-lite\", \"5.20.1\"))\n",
       "        .then(() => maybeLoadScript(\"vega-embed\", \"6\"))\n",
       "        .catch(showError)\n",
       "        .then(() => displayChart(vegaEmbed));\n",
       "    }\n",
       "  })({\"config\": {\"view\": {\"continuousWidth\": 300, \"continuousHeight\": 300}}, \"data\": {\"name\": \"data-f43d107cd750a59e8d39725de066e6e0\"}, \"mark\": {\"type\": \"bar\", \"tooltip\": true}, \"encoding\": {\"x\": {\"field\": \"column\", \"type\": \"nominal\"}, \"y\": {\"field\": \"missing_percent\", \"type\": \"quantitative\"}}, \"params\": [{\"name\": \"param_3\", \"select\": {\"type\": \"interval\", \"encodings\": [\"x\", \"y\"]}, \"bind\": \"scales\"}], \"$schema\": \"https://vega.github.io/schema/vega-lite/v5.20.1.json\", \"datasets\": {\"data-f43d107cd750a59e8d39725de066e6e0\": [{\"column\": \"era5_land__temperature_2m\", \"null_count\": 10075, \"missing_percent\": 0.982644977928282}, {\"column\": \"era5_land__dewpoint_temperature_2m\", \"null_count\": 10075, \"missing_percent\": 0.982644977928282}, {\"column\": \"era5_land__u_component_of_wind_10m\", \"null_count\": 10075, \"missing_percent\": 0.982644977928282}, {\"column\": \"era5_land__v_component_of_wind_10m\", \"null_count\": 10075, \"missing_percent\": 0.982644977928282}, {\"column\": \"era5_land__total_precipitation_sum\", \"null_count\": 10075, \"missing_percent\": 0.982644977928282}, {\"column\": \"era5_land__surface_net_thermal_radiation_sum\", \"null_count\": 10075, \"missing_percent\": 0.982644977928282}, {\"column\": \"era5_land__surface_pressure\", \"null_count\": 10075, \"missing_percent\": 0.982644977928282}, {\"column\": \"era5_land__leaf_area_index_high_vegetation\", \"null_count\": 10075, \"missing_percent\": 0.982644977928282}, {\"column\": \"era5_land__leaf_area_index_low_vegetation\", \"null_count\": 10075, \"missing_percent\": 0.982644977928282}, {\"column\": \"era5_land__leaf_area_index_high_vegetation_max\", \"null_count\": 10075, \"missing_percent\": 0.982644977928282}, {\"column\": \"era5_land__leaf_area_index_low_vegetation_max\", \"null_count\": 10075, \"missing_percent\": 0.982644977928282}, {\"column\": \"era5_land__leaf_area_index_high_vegetation_min\", \"null_count\": 10075, \"missing_percent\": 0.982644977928282}, {\"column\": \"era5_land__leaf_area_index_low_vegetation_min\", \"null_count\": 10075, \"missing_percent\": 0.982644977928282}, {\"column\": \"s5p_co__CO_column_number_density\", \"null_count\": 112458, \"missing_percent\": 10.968366146685732}, {\"column\": \"s5p_no2__tropospheric_NO2_column_number_density\", \"null_count\": 192026, \"missing_percent\": 18.72887191381204}, {\"column\": \"modis_aod__Optical_Depth_047\", \"null_count\": 215794, \"missing_percent\": 21.047036264720166}, {\"column\": \"modis_aod__Optical_Depth_055\", \"null_count\": 215794, \"missing_percent\": 21.047036264720166}]}}, {\"mode\": \"vega-lite\"});\n",
       "</script>"
      ],
      "text/plain": [
       "alt.Chart(...)"
      ]
     },
     "execution_count": 10,
     "metadata": {},
     "output_type": "execute_result"
    }
   ],
   "source": [
    "null_counts_df.plot.bar(\n",
    "    x=\"column\",\n",
    "    y=\"missing_percent\",\n",
    ")"
   ]
  },
  {
   "cell_type": "markdown",
   "id": "ac951301",
   "metadata": {},
   "source": [
    "It looks like the columns that have null values are:\n",
    " - ERA5 - which we're already handling spatially\n",
    " - and the columns which we're going to use ML for"
   ]
  }
 ],
 "metadata": {
  "kernelspec": {
   "display_name": "pm25ml-py3.12",
   "language": "python",
   "name": "python3"
  },
  "language_info": {
   "codemirror_mode": {
    "name": "ipython",
    "version": 3
   },
   "file_extension": ".py",
   "mimetype": "text/x-python",
   "name": "python",
   "nbconvert_exporter": "python",
   "pygments_lexer": "ipython3",
   "version": "3.12.2"
  }
 },
 "nbformat": 4,
 "nbformat_minor": 5
}
