{
 "cells": [
  {
   "cell_type": "code",
   "execution_count": null,
   "id": "6af80d23",
   "metadata": {},
   "outputs": [],
   "source": [
    "import polars as pl"
   ]
  },
  {
   "cell_type": "code",
   "execution_count": 43,
   "id": "063f0385",
   "metadata": {},
   "outputs": [],
   "source": [
    "actual = pl.read_parquet(\n",
    "    \"gs://crea-pm25ml-examples/combined__omi_full_nn.parquet\"\n",
    ")"
   ]
  },
  {
   "cell_type": "code",
   "execution_count": null,
   "id": "7a352593",
   "metadata": {},
   "outputs": [],
   "source": [
    "actual"
   ]
  },
  {
   "cell_type": "code",
   "execution_count": 35,
   "id": "edcc4130",
   "metadata": {},
   "outputs": [],
   "source": [
    "expected_rows = float(actual.shape[0])"
   ]
  },
  {
   "cell_type": "code",
   "execution_count": 46,
   "id": "8ac1fbd2",
   "metadata": {},
   "outputs": [],
   "source": [
    "# Count the number of nulls in each column and plot the results where the number of nulls is greater than 0\n",
    "\n",
    "null_counts_df = actual.select(\n",
    "    [\n",
    "        (pl.col(col).is_null() | pl.col(col).is_nan()).sum().alias(col)\n",
    "        for col in actual.columns\n",
    "        if col != \"grid_id\" and col != \"date\"\n",
    "    ]\n",
    ").unpivot(\n",
    "    variable_name=\"column\",\n",
    "    value_name=\"null_count\"\n",
    ").filter(\n",
    "    pl.col(\"null_count\") > 0\n",
    ").with_columns(\n",
    "    missing_percent=pl.col(\"null_count\") / expected_rows * 100.0\n",
    ").sort(\"missing_percent\", descending=True)"
   ]
  },
  {
   "cell_type": "code",
   "execution_count": 47,
   "id": "289a7957",
   "metadata": {},
   "outputs": [
    {
     "data": {
      "text/html": [
       "<div><style>\n",
       ".dataframe > thead > tr,\n",
       ".dataframe > tbody > tr {\n",
       "  text-align: right;\n",
       "  white-space: pre-wrap;\n",
       "}\n",
       "</style>\n",
       "<small>shape: (25, 3)</small><table border=\"1\" class=\"dataframe\"><thead><tr><th>column</th><th>null_count</th><th>missing_percent</th></tr><tr><td>str</td><td>u32</td><td>f64</td></tr></thead><tbody><tr><td>&quot;omi_no2__no2_cloud_screened&quot;</td><td>555401</td><td>54.169926</td></tr><tr><td>&quot;omi_no2__no2_trop_cloud_screen…</td><td>555401</td><td>54.169926</td></tr><tr><td>&quot;omi_no2_v4__no2_cloud_screened&quot;</td><td>498361</td><td>48.606644</td></tr><tr><td>&quot;omi_no2_v4__no2_trop_cloud_scr…</td><td>498361</td><td>48.606644</td></tr><tr><td>&quot;omi_no2__no2&quot;</td><td>471335</td><td>45.970717</td></tr><tr><td>&hellip;</td><td>&hellip;</td><td>&hellip;</td></tr><tr><td>&quot;era5_land__leaf_area_index_low…</td><td>10075</td><td>0.982645</td></tr><tr><td>&quot;era5_land__leaf_area_index_hig…</td><td>10075</td><td>0.982645</td></tr><tr><td>&quot;era5_land__leaf_area_index_low…</td><td>10075</td><td>0.982645</td></tr><tr><td>&quot;era5_land__leaf_area_index_hig…</td><td>10075</td><td>0.982645</td></tr><tr><td>&quot;era5_land__leaf_area_index_low…</td><td>10075</td><td>0.982645</td></tr></tbody></table></div>"
      ],
      "text/plain": [
       "shape: (25, 3)\n",
       "┌─────────────────────────────────┬────────────┬─────────────────┐\n",
       "│ column                          ┆ null_count ┆ missing_percent │\n",
       "│ ---                             ┆ ---        ┆ ---             │\n",
       "│ str                             ┆ u32        ┆ f64             │\n",
       "╞═════════════════════════════════╪════════════╪═════════════════╡\n",
       "│ omi_no2__no2_cloud_screened     ┆ 555401     ┆ 54.169926       │\n",
       "│ omi_no2__no2_trop_cloud_screen… ┆ 555401     ┆ 54.169926       │\n",
       "│ omi_no2_v4__no2_cloud_screened  ┆ 498361     ┆ 48.606644       │\n",
       "│ omi_no2_v4__no2_trop_cloud_scr… ┆ 498361     ┆ 48.606644       │\n",
       "│ omi_no2__no2                    ┆ 471335     ┆ 45.970717       │\n",
       "│ …                               ┆ …          ┆ …               │\n",
       "│ era5_land__leaf_area_index_low… ┆ 10075      ┆ 0.982645        │\n",
       "│ era5_land__leaf_area_index_hig… ┆ 10075      ┆ 0.982645        │\n",
       "│ era5_land__leaf_area_index_low… ┆ 10075      ┆ 0.982645        │\n",
       "│ era5_land__leaf_area_index_hig… ┆ 10075      ┆ 0.982645        │\n",
       "│ era5_land__leaf_area_index_low… ┆ 10075      ┆ 0.982645        │\n",
       "└─────────────────────────────────┴────────────┴─────────────────┘"
      ]
     },
     "execution_count": 47,
     "metadata": {},
     "output_type": "execute_result"
    }
   ],
   "source": [
    "null_counts_df"
   ]
  },
  {
   "cell_type": "code",
   "execution_count": 48,
   "id": "88eb06b4",
   "metadata": {},
   "outputs": [
    {
     "data": {
      "text/html": [
       "\n",
       "<style>\n",
       "  #altair-viz-1994af46c2534cc1b696df0010f79edb.vega-embed {\n",
       "    width: 100%;\n",
       "    display: flex;\n",
       "  }\n",
       "\n",
       "  #altair-viz-1994af46c2534cc1b696df0010f79edb.vega-embed details,\n",
       "  #altair-viz-1994af46c2534cc1b696df0010f79edb.vega-embed details summary {\n",
       "    position: relative;\n",
       "  }\n",
       "</style>\n",
       "<div id=\"altair-viz-1994af46c2534cc1b696df0010f79edb\"></div>\n",
       "<script type=\"text/javascript\">\n",
       "  var VEGA_DEBUG = (typeof VEGA_DEBUG == \"undefined\") ? {} : VEGA_DEBUG;\n",
       "  (function(spec, embedOpt){\n",
       "    let outputDiv = document.currentScript.previousElementSibling;\n",
       "    if (outputDiv.id !== \"altair-viz-1994af46c2534cc1b696df0010f79edb\") {\n",
       "      outputDiv = document.getElementById(\"altair-viz-1994af46c2534cc1b696df0010f79edb\");\n",
       "    }\n",
       "\n",
       "    const paths = {\n",
       "      \"vega\": \"https://cdn.jsdelivr.net/npm/vega@5?noext\",\n",
       "      \"vega-lib\": \"https://cdn.jsdelivr.net/npm/vega-lib?noext\",\n",
       "      \"vega-lite\": \"https://cdn.jsdelivr.net/npm/vega-lite@5.20.1?noext\",\n",
       "      \"vega-embed\": \"https://cdn.jsdelivr.net/npm/vega-embed@6?noext\",\n",
       "    };\n",
       "\n",
       "    function maybeLoadScript(lib, version) {\n",
       "      var key = `${lib.replace(\"-\", \"\")}_version`;\n",
       "      return (VEGA_DEBUG[key] == version) ?\n",
       "        Promise.resolve(paths[lib]) :\n",
       "        new Promise(function(resolve, reject) {\n",
       "          var s = document.createElement('script');\n",
       "          document.getElementsByTagName(\"head\")[0].appendChild(s);\n",
       "          s.async = true;\n",
       "          s.onload = () => {\n",
       "            VEGA_DEBUG[key] = version;\n",
       "            return resolve(paths[lib]);\n",
       "          };\n",
       "          s.onerror = () => reject(`Error loading script: ${paths[lib]}`);\n",
       "          s.src = paths[lib];\n",
       "        });\n",
       "    }\n",
       "\n",
       "    function showError(err) {\n",
       "      outputDiv.innerHTML = `<div class=\"error\" style=\"color:red;\">${err}</div>`;\n",
       "      throw err;\n",
       "    }\n",
       "\n",
       "    function displayChart(vegaEmbed) {\n",
       "      vegaEmbed(outputDiv, spec, embedOpt)\n",
       "        .catch(err => showError(`Javascript Error: ${err.message}<br>This usually means there's a typo in your chart specification. See the javascript console for the full traceback.`));\n",
       "    }\n",
       "\n",
       "    if(typeof define === \"function\" && define.amd) {\n",
       "      requirejs.config({paths});\n",
       "      let deps = [\"vega-embed\"];\n",
       "      require(deps, displayChart, err => showError(`Error loading script: ${err.message}`));\n",
       "    } else {\n",
       "      maybeLoadScript(\"vega\", \"5\")\n",
       "        .then(() => maybeLoadScript(\"vega-lite\", \"5.20.1\"))\n",
       "        .then(() => maybeLoadScript(\"vega-embed\", \"6\"))\n",
       "        .catch(showError)\n",
       "        .then(() => displayChart(vegaEmbed));\n",
       "    }\n",
       "  })({\"config\": {\"view\": {\"continuousWidth\": 300, \"continuousHeight\": 300}}, \"data\": {\"name\": \"data-23665c662e983f90e79658fa7371ffa9\"}, \"mark\": {\"type\": \"bar\", \"tooltip\": true}, \"encoding\": {\"x\": {\"field\": \"column\", \"type\": \"nominal\"}, \"y\": {\"field\": \"missing_percent\", \"type\": \"quantitative\"}}, \"params\": [{\"name\": \"param_18\", \"select\": {\"type\": \"interval\", \"encodings\": [\"x\", \"y\"]}, \"bind\": \"scales\"}], \"$schema\": \"https://vega.github.io/schema/vega-lite/v5.20.1.json\", \"datasets\": {\"data-23665c662e983f90e79658fa7371ffa9\": [{\"column\": \"omi_no2__no2_cloud_screened\", \"null_count\": 555401, \"missing_percent\": 54.169925894426385}, {\"column\": \"omi_no2__no2_trop_cloud_screened\", \"null_count\": 555401, \"missing_percent\": 54.169925894426385}, {\"column\": \"omi_no2_v4__no2_cloud_screened\", \"null_count\": 498361, \"missing_percent\": 48.6066435578478}, {\"column\": \"omi_no2_v4__no2_trop_cloud_screened\", \"null_count\": 498361, \"missing_percent\": 48.6066435578478}, {\"column\": \"omi_no2__no2\", \"null_count\": 471335, \"missing_percent\": 45.970716691992735}, {\"column\": \"omi_no2__no2_trop\", \"null_count\": 471335, \"missing_percent\": 45.970716691992735}, {\"column\": \"omi_no2_v4__no2\", \"null_count\": 392652, \"missing_percent\": 38.296527630123656}, {\"column\": \"omi_no2_v4__no2_trop\", \"null_count\": 392652, \"missing_percent\": 38.296527630123656}, {\"column\": \"modis_aod__Optical_Depth_047\", \"null_count\": 215794, \"missing_percent\": 21.047036264720166}, {\"column\": \"modis_aod__Optical_Depth_055\", \"null_count\": 215794, \"missing_percent\": 21.047036264720166}, {\"column\": \"s5p_no2__tropospheric_NO2_column_number_density\", \"null_count\": 192026, \"missing_percent\": 18.72887191381204}, {\"column\": \"s5p_co__CO_column_number_density\", \"null_count\": 112458, \"missing_percent\": 10.968366146685732}, {\"column\": \"era5_land__temperature_2m\", \"null_count\": 10075, \"missing_percent\": 0.982644977928282}, {\"column\": \"era5_land__dewpoint_temperature_2m\", \"null_count\": 10075, \"missing_percent\": 0.982644977928282}, {\"column\": \"era5_land__u_component_of_wind_10m\", \"null_count\": 10075, \"missing_percent\": 0.982644977928282}, {\"column\": \"era5_land__v_component_of_wind_10m\", \"null_count\": 10075, \"missing_percent\": 0.982644977928282}, {\"column\": \"era5_land__total_precipitation_sum\", \"null_count\": 10075, \"missing_percent\": 0.982644977928282}, {\"column\": \"era5_land__surface_net_thermal_radiation_sum\", \"null_count\": 10075, \"missing_percent\": 0.982644977928282}, {\"column\": \"era5_land__surface_pressure\", \"null_count\": 10075, \"missing_percent\": 0.982644977928282}, {\"column\": \"era5_land__leaf_area_index_high_vegetation\", \"null_count\": 10075, \"missing_percent\": 0.982644977928282}, {\"column\": \"era5_land__leaf_area_index_low_vegetation\", \"null_count\": 10075, \"missing_percent\": 0.982644977928282}, {\"column\": \"era5_land__leaf_area_index_high_vegetation_max\", \"null_count\": 10075, \"missing_percent\": 0.982644977928282}, {\"column\": \"era5_land__leaf_area_index_low_vegetation_max\", \"null_count\": 10075, \"missing_percent\": 0.982644977928282}, {\"column\": \"era5_land__leaf_area_index_high_vegetation_min\", \"null_count\": 10075, \"missing_percent\": 0.982644977928282}, {\"column\": \"era5_land__leaf_area_index_low_vegetation_min\", \"null_count\": 10075, \"missing_percent\": 0.982644977928282}]}}, {\"mode\": \"vega-lite\"});\n",
       "</script>"
      ],
      "text/plain": [
       "alt.Chart(...)"
      ]
     },
     "execution_count": 48,
     "metadata": {},
     "output_type": "execute_result"
    }
   ],
   "source": [
    "null_counts_df.plot.bar(\n",
    "    x=\"column\",\n",
    "    y=\"missing_percent\",\n",
    ")"
   ]
  },
  {
   "cell_type": "markdown",
   "id": "ac951301",
   "metadata": {},
   "source": [
    "It looks like the columns that have null values are:\n",
    " - ERA5 - which we're already handling spatially\n",
    " - OMI NO2 - which we we will handle as part of the \"generation\" of data\n",
    " - and the columns which we're going to use ML for"
   ]
  }
 ],
 "metadata": {
  "kernelspec": {
   "display_name": "pm25ml-py3.12",
   "language": "python",
   "name": "python3"
  },
  "language_info": {
   "codemirror_mode": {
    "name": "ipython",
    "version": 3
   },
   "file_extension": ".py",
   "mimetype": "text/x-python",
   "name": "python",
   "nbconvert_exporter": "python",
   "pygments_lexer": "ipython3",
   "version": "3.12.2"
  }
 },
 "nbformat": 4,
 "nbformat_minor": 5
}
