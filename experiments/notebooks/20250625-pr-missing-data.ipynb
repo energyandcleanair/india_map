{
 "cells": [
  {
   "cell_type": "markdown",
   "id": "ffb2fafb",
   "metadata": {},
   "source": [
    "The purpose of this is to compare the inputs from Ayako for imputation vs what we've got\n",
    "for imputation."
   ]
  },
  {
   "cell_type": "code",
   "execution_count": 1,
   "id": "50997030",
   "metadata": {},
   "outputs": [],
   "source": [
    "import polars as pl"
   ]
  },
  {
   "cell_type": "code",
   "execution_count": null,
   "id": "c62ef73a",
   "metadata": {},
   "outputs": [],
   "source": [
    "expected = pl.read_parquet(\n",
    "    \"inputs/expected_imputation_2023_01\"\n",
    ")\n",
    "\n",
    "actual = pl.read_parquet(\n",
    "    \"inputs/actual_imputed_2023_01.parquet\",\n",
    ")"
   ]
  },
  {
   "cell_type": "code",
   "execution_count": 5,
   "id": "9048cfbf",
   "metadata": {},
   "outputs": [
    {
     "data": {
      "text/plain": [
       "\"['grid_id', 'date', 'aot_daily', 'co_daily', 'omi_no2', 'v_wind', 'u_wind', 'rainfall', 'temp', 'pressure', 'thermal_radiation', 'low_veg', 'high_veg', 'dewpoint_temp', 'NO2_tropos', 'NO2_missing', 'aod', 'aod_missing', 'CO', 'CO_missing', 'elevation', 'water', 'shurub', 'urban', 'forest', 'savannas', 'month', 'day_of_year', 'cos_day_of_year', 'monsoon', 'lon', 'lat', 'wind_degree', 'RH', 'aot_rolling', 'co_rolling', 'omi_no2_rolling', 'v_wind_rolling', 'u_wind_rolling', 'rainfall_rolling', 'temp_rolling', 'pressure_rolling', 'wind_degree_rolling', 'RH_rolling', 'thermal_radiation_rolling', 'dewpoint_temp_rolling', 'aot_daily_annual', 'co_daily_annual', 'omi_no2_annual', 'v_wind_annual', 'u_wind_annual', 'rainfall_annual', 'temp_annual', 'pressure_annual', 'thermal_radiation_annual', 'low_veg_annual', 'high_veg_annual', 'dewpoint_temp_annual', 'wind_degree_annual', 'RH_annual', 'aot_daily_allyears', 'co_daily_allyears', 'omi_no2_allyears', 'v_wind_allyears', 'u_wind_allyears', 'rainfall_allyears', 'temp_allyears', 'pressure_allyears', 'thermal_radiation_allyears', 'low_veg_allyears', 'high_veg_allyears', 'dewpoint_temp_allyears', 'wind_degree_allyears', 'RH_allyears', 'year']\""
      ]
     },
     "execution_count": 5,
     "metadata": {},
     "output_type": "execute_result"
    }
   ],
   "source": [
    "str(expected.columns)"
   ]
  },
  {
   "cell_type": "code",
   "execution_count": 6,
   "id": "17476666",
   "metadata": {},
   "outputs": [
    {
     "data": {
      "text/plain": [
       "\"['date', 'grid_id', 'temperature_2m', 'dewpoint_temperature_2m', 'u_component_of_wind_10m', 'v_component_of_wind_10m', 'total_precipitation_sum', 'surface_net_thermal_radiation_sum', 'surface_pressure', 'leaf_area_index_high_vegetation', 'leaf_area_index_low_vegetation', 'merra_aot', 'merra_co', 'Optical_Depth_047', 'Optical_Depth_055', 'omi_no2', 'CO_column_number_density', 'NO2_column_number_density', 'forest', 'shrub', 'savanna', 'urban', 'water', 'elevation']\""
      ]
     },
     "execution_count": 6,
     "metadata": {},
     "output_type": "execute_result"
    }
   ],
   "source": [
    "str(actual.columns)"
   ]
  },
  {
   "cell_type": "code",
   "execution_count": 22,
   "id": "544da191",
   "metadata": {},
   "outputs": [],
   "source": [
    "values_missing_temperature = actual.filter(\n",
    "    pl.col(\"temperature_2m\").is_null()\n",
    ")[[\"date\", \"grid_id\"]]"
   ]
  },
  {
   "cell_type": "code",
   "execution_count": 29,
   "id": "4b32fa11",
   "metadata": {},
   "outputs": [],
   "source": [
    "grid_id = 1278"
   ]
  },
  {
   "cell_type": "code",
   "execution_count": 30,
   "id": "32bba245",
   "metadata": {},
   "outputs": [
    {
     "data": {
      "text/html": [
       "<div><style>\n",
       ".dataframe > thead > tr,\n",
       ".dataframe > tbody > tr {\n",
       "  text-align: right;\n",
       "  white-space: pre-wrap;\n",
       "}\n",
       "</style>\n",
       "<small>shape: (31, 3)</small><table border=\"1\" class=\"dataframe\"><thead><tr><th>date</th><th>grid_id</th><th>temp</th></tr><tr><td>datetime[ns]</td><td>i64</td><td>f64</td></tr></thead><tbody><tr><td>2023-01-01 00:00:00</td><td>1278</td><td>299.565007</td></tr><tr><td>2023-01-02 00:00:00</td><td>1278</td><td>299.511196</td></tr><tr><td>2023-01-03 00:00:00</td><td>1278</td><td>298.757951</td></tr><tr><td>2023-01-04 00:00:00</td><td>1278</td><td>299.21439</td></tr><tr><td>2023-01-05 00:00:00</td><td>1278</td><td>300.334467</td></tr><tr><td>&hellip;</td><td>&hellip;</td><td>&hellip;</td></tr><tr><td>2023-01-27 00:00:00</td><td>1278</td><td>298.238824</td></tr><tr><td>2023-01-28 00:00:00</td><td>1278</td><td>299.398999</td></tr><tr><td>2023-01-29 00:00:00</td><td>1278</td><td>298.807748</td></tr><tr><td>2023-01-30 00:00:00</td><td>1278</td><td>299.451468</td></tr><tr><td>2023-01-31 00:00:00</td><td>1278</td><td>299.58859</td></tr></tbody></table></div>"
      ],
      "text/plain": [
       "shape: (31, 3)\n",
       "┌─────────────────────┬─────────┬────────────┐\n",
       "│ date                ┆ grid_id ┆ temp       │\n",
       "│ ---                 ┆ ---     ┆ ---        │\n",
       "│ datetime[ns]        ┆ i64     ┆ f64        │\n",
       "╞═════════════════════╪═════════╪════════════╡\n",
       "│ 2023-01-01 00:00:00 ┆ 1278    ┆ 299.565007 │\n",
       "│ 2023-01-02 00:00:00 ┆ 1278    ┆ 299.511196 │\n",
       "│ 2023-01-03 00:00:00 ┆ 1278    ┆ 298.757951 │\n",
       "│ 2023-01-04 00:00:00 ┆ 1278    ┆ 299.21439  │\n",
       "│ 2023-01-05 00:00:00 ┆ 1278    ┆ 300.334467 │\n",
       "│ …                   ┆ …       ┆ …          │\n",
       "│ 2023-01-27 00:00:00 ┆ 1278    ┆ 298.238824 │\n",
       "│ 2023-01-28 00:00:00 ┆ 1278    ┆ 299.398999 │\n",
       "│ 2023-01-29 00:00:00 ┆ 1278    ┆ 298.807748 │\n",
       "│ 2023-01-30 00:00:00 ┆ 1278    ┆ 299.451468 │\n",
       "│ 2023-01-31 00:00:00 ┆ 1278    ┆ 299.58859  │\n",
       "└─────────────────────┴─────────┴────────────┘"
      ]
     },
     "execution_count": 30,
     "metadata": {},
     "output_type": "execute_result"
    }
   ],
   "source": [
    "expected[[\"date\", \"grid_id\", \"temp\"]].filter(pl.col(\"grid_id\") == grid_id)"
   ]
  },
  {
   "cell_type": "code",
   "execution_count": 31,
   "id": "c6732ede",
   "metadata": {},
   "outputs": [
    {
     "data": {
      "text/html": [
       "<div><style>\n",
       ".dataframe > thead > tr,\n",
       ".dataframe > tbody > tr {\n",
       "  text-align: right;\n",
       "  white-space: pre-wrap;\n",
       "}\n",
       "</style>\n",
       "<small>shape: (31, 3)</small><table border=\"1\" class=\"dataframe\"><thead><tr><th>date</th><th>grid_id</th><th>temperature_2m</th></tr><tr><td>str</td><td>i64</td><td>f64</td></tr></thead><tbody><tr><td>&quot;2023-01-01&quot;</td><td>1278</td><td>null</td></tr><tr><td>&quot;2023-01-02&quot;</td><td>1278</td><td>null</td></tr><tr><td>&quot;2023-01-03&quot;</td><td>1278</td><td>null</td></tr><tr><td>&quot;2023-01-04&quot;</td><td>1278</td><td>null</td></tr><tr><td>&quot;2023-01-05&quot;</td><td>1278</td><td>null</td></tr><tr><td>&hellip;</td><td>&hellip;</td><td>&hellip;</td></tr><tr><td>&quot;2023-01-27&quot;</td><td>1278</td><td>null</td></tr><tr><td>&quot;2023-01-28&quot;</td><td>1278</td><td>null</td></tr><tr><td>&quot;2023-01-29&quot;</td><td>1278</td><td>null</td></tr><tr><td>&quot;2023-01-30&quot;</td><td>1278</td><td>null</td></tr><tr><td>&quot;2023-01-31&quot;</td><td>1278</td><td>null</td></tr></tbody></table></div>"
      ],
      "text/plain": [
       "shape: (31, 3)\n",
       "┌────────────┬─────────┬────────────────┐\n",
       "│ date       ┆ grid_id ┆ temperature_2m │\n",
       "│ ---        ┆ ---     ┆ ---            │\n",
       "│ str        ┆ i64     ┆ f64            │\n",
       "╞════════════╪═════════╪════════════════╡\n",
       "│ 2023-01-01 ┆ 1278    ┆ null           │\n",
       "│ 2023-01-02 ┆ 1278    ┆ null           │\n",
       "│ 2023-01-03 ┆ 1278    ┆ null           │\n",
       "│ 2023-01-04 ┆ 1278    ┆ null           │\n",
       "│ 2023-01-05 ┆ 1278    ┆ null           │\n",
       "│ …          ┆ …       ┆ …              │\n",
       "│ 2023-01-27 ┆ 1278    ┆ null           │\n",
       "│ 2023-01-28 ┆ 1278    ┆ null           │\n",
       "│ 2023-01-29 ┆ 1278    ┆ null           │\n",
       "│ 2023-01-30 ┆ 1278    ┆ null           │\n",
       "│ 2023-01-31 ┆ 1278    ┆ null           │\n",
       "└────────────┴─────────┴────────────────┘"
      ]
     },
     "execution_count": 31,
     "metadata": {},
     "output_type": "execute_result"
    }
   ],
   "source": [
    "actual[[\"date\", \"grid_id\", \"temperature_2m\"]].filter(pl.col(\"grid_id\") == grid_id)"
   ]
  },
  {
   "cell_type": "code",
   "execution_count": 36,
   "id": "e1ead398",
   "metadata": {},
   "outputs": [],
   "source": [
    "grid_id = 1607"
   ]
  },
  {
   "cell_type": "code",
   "execution_count": 37,
   "id": "8343fb45",
   "metadata": {},
   "outputs": [
    {
     "data": {
      "text/html": [
       "<div><style>\n",
       ".dataframe > thead > tr,\n",
       ".dataframe > tbody > tr {\n",
       "  text-align: right;\n",
       "  white-space: pre-wrap;\n",
       "}\n",
       "</style>\n",
       "<small>shape: (31, 3)</small><table border=\"1\" class=\"dataframe\"><thead><tr><th>date</th><th>grid_id</th><th>temp</th></tr><tr><td>datetime[ns]</td><td>i64</td><td>f64</td></tr></thead><tbody><tr><td>2023-01-01 00:00:00</td><td>1607</td><td>299.573755</td></tr><tr><td>2023-01-02 00:00:00</td><td>1607</td><td>299.53299</td></tr><tr><td>2023-01-03 00:00:00</td><td>1607</td><td>298.768977</td></tr><tr><td>2023-01-04 00:00:00</td><td>1607</td><td>299.237948</td></tr><tr><td>2023-01-05 00:00:00</td><td>1607</td><td>300.360488</td></tr><tr><td>&hellip;</td><td>&hellip;</td><td>&hellip;</td></tr><tr><td>2023-01-27 00:00:00</td><td>1607</td><td>298.238016</td></tr><tr><td>2023-01-28 00:00:00</td><td>1607</td><td>299.389701</td></tr><tr><td>2023-01-29 00:00:00</td><td>1607</td><td>298.84009</td></tr><tr><td>2023-01-30 00:00:00</td><td>1607</td><td>299.481384</td></tr><tr><td>2023-01-31 00:00:00</td><td>1607</td><td>299.614133</td></tr></tbody></table></div>"
      ],
      "text/plain": [
       "shape: (31, 3)\n",
       "┌─────────────────────┬─────────┬────────────┐\n",
       "│ date                ┆ grid_id ┆ temp       │\n",
       "│ ---                 ┆ ---     ┆ ---        │\n",
       "│ datetime[ns]        ┆ i64     ┆ f64        │\n",
       "╞═════════════════════╪═════════╪════════════╡\n",
       "│ 2023-01-01 00:00:00 ┆ 1607    ┆ 299.573755 │\n",
       "│ 2023-01-02 00:00:00 ┆ 1607    ┆ 299.53299  │\n",
       "│ 2023-01-03 00:00:00 ┆ 1607    ┆ 298.768977 │\n",
       "│ 2023-01-04 00:00:00 ┆ 1607    ┆ 299.237948 │\n",
       "│ 2023-01-05 00:00:00 ┆ 1607    ┆ 300.360488 │\n",
       "│ …                   ┆ …       ┆ …          │\n",
       "│ 2023-01-27 00:00:00 ┆ 1607    ┆ 298.238016 │\n",
       "│ 2023-01-28 00:00:00 ┆ 1607    ┆ 299.389701 │\n",
       "│ 2023-01-29 00:00:00 ┆ 1607    ┆ 298.84009  │\n",
       "│ 2023-01-30 00:00:00 ┆ 1607    ┆ 299.481384 │\n",
       "│ 2023-01-31 00:00:00 ┆ 1607    ┆ 299.614133 │\n",
       "└─────────────────────┴─────────┴────────────┘"
      ]
     },
     "execution_count": 37,
     "metadata": {},
     "output_type": "execute_result"
    }
   ],
   "source": [
    "expected[[\"date\", \"grid_id\", \"temp\"]].filter(pl.col(\"grid_id\") == grid_id)"
   ]
  },
  {
   "cell_type": "code",
   "execution_count": null,
   "id": "a7739f36",
   "metadata": {},
   "outputs": [],
   "source": [
    "actual[[\"date\", \"grid_id\", \"temperature_2m\"]].filter(pl.col(\"grid_id\") == grid_id)"
   ]
  }
 ],
 "metadata": {
  "kernelspec": {
   "display_name": "india-map-py3.11",
   "language": "python",
   "name": "python3"
  },
  "language_info": {
   "codemirror_mode": {
    "name": "ipython",
    "version": 3
   },
   "file_extension": ".py",
   "mimetype": "text/x-python",
   "name": "python",
   "nbconvert_exporter": "python",
   "pygments_lexer": "ipython3",
   "version": "3.11.2"
  }
 },
 "nbformat": 4,
 "nbformat_minor": 5
}
