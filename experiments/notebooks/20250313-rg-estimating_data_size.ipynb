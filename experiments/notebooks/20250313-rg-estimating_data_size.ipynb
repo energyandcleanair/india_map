{
 "cells": [
  {
   "cell_type": "code",
   "execution_count": 3,
   "metadata": {},
   "outputs": [],
   "source": [
    "import pandas as pd\n",
    "import geopandas as gpd\n",
    "import os\n",
    "import numpy as np\n",
    "from sys import getsizeof\n",
    "\n",
    "path_to_data = '../../../input_data/'"
   ]
  },
  {
   "cell_type": "code",
   "execution_count": 4,
   "metadata": {},
   "outputs": [],
   "source": [
    "# read shapefile for 10 km grid\n",
    "gdf = gpd.read_file(os.path.join(path_to_data, 'grid_india_10km'))\n",
    "\n",
    "# read parquet file for imputation df\n",
    "df = pd.read_parquet(os.path.join(path_to_data, \"df_for_imputation_test.parquet\"))\n",
    "\n",
    "pm25 = pd.read_parquet(os.path.join(\n",
    "            path_to_data, \"df_ml.parquet\"))"
   ]
  },
  {
   "cell_type": "code",
   "execution_count": 5,
   "metadata": {},
   "outputs": [],
   "source": [
    "# find first data in the dataset\n",
    "first_date = df['date'].min()\n",
    "\n",
    "# from df, only take data for first day\n",
    "df = df[df['date'] == first_date]\n",
    "\n",
    "# check that both datasets contain the same grid_ids\n",
    "assert set(gdf.grid_id.unique()) == set(df.grid_id.unique())"
   ]
  },
  {
   "cell_type": "code",
   "execution_count": 12,
   "metadata": {},
   "outputs": [
    {
     "data": {
      "text/plain": [
       "92.10212707519531"
      ]
     },
     "execution_count": 12,
     "metadata": {},
     "output_type": "execute_result"
    }
   ],
   "source": [
    "N_grid = len(gdf.grid_id.unique())\n",
    "N_features = 365\n",
    "\n",
    "# get one dummy feature for all grid points for single date\n",
    "dummy_dat = df['v_wind'].values\n",
    "\n",
    "# replicate data N_features times\n",
    "feature_dummy = np.matlib.repmat(dummy_dat, N_features, 1)\n",
    "\n",
    "# # get the size of feature_dummy in memory\n",
    "feature_dummy.nbytes / (1024 ** 2)  # in MB\n",
    "\n",
    "# getsizeof(feature_dummy)"
   ]
  },
  {
   "cell_type": "code",
   "execution_count": 7,
   "metadata": {},
   "outputs": [],
   "source": [
    "# get number of days from 1.7.2018 to 30.9.2023\n",
    "# N_days_total = (pd.to_datetime('2023-09-30') - pd.to_datetime('2018-07-01')).days\n",
    "N_days_total = 365\n",
    "storage_per_year = N_days_total * feature_dummy.nbytes / (1024 ** 3)  # in MB"
   ]
  },
  {
   "cell_type": "code",
   "execution_count": 8,
   "metadata": {},
   "outputs": [
    {
     "data": {
      "text/plain": [
       "np.float64(31.480219215154648)"
      ]
     },
     "execution_count": 8,
     "metadata": {},
     "output_type": "execute_result"
    }
   ],
   "source": [
    "np.mean(storage_per_year*np.arange(5,10))"
   ]
  },
  {
   "cell_type": "code",
   "execution_count": 9,
   "metadata": {},
   "outputs": [
    {
     "data": {
      "text/plain": [
       "97.11999999999999"
      ]
     },
     "execution_count": 9,
     "metadata": {},
     "output_type": "execute_result"
    }
   ],
   "source": [
    "32*3 + (32/100) + 0.4*2"
   ]
  }
 ],
 "metadata": {
  "kernelspec": {
   "display_name": "india-map-JHchGCJw-py3.12",
   "language": "python",
   "name": "python3"
  },
  "language_info": {
   "codemirror_mode": {
    "name": "ipython",
    "version": 3
   },
   "file_extension": ".py",
   "mimetype": "text/x-python",
   "name": "python",
   "nbconvert_exporter": "python",
   "pygments_lexer": "ipython3",
   "version": "3.12.3"
  }
 },
 "nbformat": 4,
 "nbformat_minor": 2
}
